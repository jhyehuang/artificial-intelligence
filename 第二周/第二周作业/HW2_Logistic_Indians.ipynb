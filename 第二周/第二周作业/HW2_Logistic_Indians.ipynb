{
 "cells": [
  {
   "cell_type": "markdown",
   "metadata": {},
   "source": [
    "# Pima Indians Diabetes Data Set（皮马印第安人糖尿病数据集）进行分类"
   ]
  },
  {
   "cell_type": "code",
   "execution_count": 164,
   "metadata": {
    "collapsed": true
   },
   "outputs": [],
   "source": [
    "# 首先 import 必要的模块\n",
    "import pandas as pd \n",
    "import numpy as np\n",
    "\n",
    "from sklearn.model_selection import GridSearchCV\n",
    "\n",
    "#竞赛的评价指标为logloss\n",
    "from sklearn.metrics import log_loss  \n",
    "\n",
    "from matplotlib import pyplot as plt\n",
    "import seaborn as sns\n",
    "%matplotlib inline"
   ]
  },
  {
   "cell_type": "markdown",
   "metadata": {},
   "source": [
    "## 读取数据 & 数据探索"
   ]
  },
  {
   "cell_type": "code",
   "execution_count": 165,
   "metadata": {
    "scrolled": true
   },
   "outputs": [
    {
     "data": {
      "text/html": [
       "<div>\n",
       "<style>\n",
       "    .dataframe thead tr:only-child th {\n",
       "        text-align: right;\n",
       "    }\n",
       "\n",
       "    .dataframe thead th {\n",
       "        text-align: left;\n",
       "    }\n",
       "\n",
       "    .dataframe tbody tr th {\n",
       "        vertical-align: top;\n",
       "    }\n",
       "</style>\n",
       "<table border=\"1\" class=\"dataframe\">\n",
       "  <thead>\n",
       "    <tr style=\"text-align: right;\">\n",
       "      <th></th>\n",
       "      <th>Pregnancies</th>\n",
       "      <th>Glucose</th>\n",
       "      <th>BloodPressure</th>\n",
       "      <th>SkinThickness</th>\n",
       "      <th>Insulin</th>\n",
       "      <th>BMI</th>\n",
       "      <th>DiabetesPedigreeFunction</th>\n",
       "      <th>Age</th>\n",
       "      <th>Outcome</th>\n",
       "    </tr>\n",
       "  </thead>\n",
       "  <tbody>\n",
       "    <tr>\n",
       "      <th>0</th>\n",
       "      <td>6</td>\n",
       "      <td>148</td>\n",
       "      <td>72</td>\n",
       "      <td>35</td>\n",
       "      <td>0</td>\n",
       "      <td>33.6</td>\n",
       "      <td>0.627</td>\n",
       "      <td>50</td>\n",
       "      <td>1</td>\n",
       "    </tr>\n",
       "    <tr>\n",
       "      <th>1</th>\n",
       "      <td>1</td>\n",
       "      <td>85</td>\n",
       "      <td>66</td>\n",
       "      <td>29</td>\n",
       "      <td>0</td>\n",
       "      <td>26.6</td>\n",
       "      <td>0.351</td>\n",
       "      <td>31</td>\n",
       "      <td>0</td>\n",
       "    </tr>\n",
       "    <tr>\n",
       "      <th>2</th>\n",
       "      <td>8</td>\n",
       "      <td>183</td>\n",
       "      <td>64</td>\n",
       "      <td>0</td>\n",
       "      <td>0</td>\n",
       "      <td>23.3</td>\n",
       "      <td>0.672</td>\n",
       "      <td>32</td>\n",
       "      <td>1</td>\n",
       "    </tr>\n",
       "    <tr>\n",
       "      <th>3</th>\n",
       "      <td>1</td>\n",
       "      <td>89</td>\n",
       "      <td>66</td>\n",
       "      <td>23</td>\n",
       "      <td>94</td>\n",
       "      <td>28.1</td>\n",
       "      <td>0.167</td>\n",
       "      <td>21</td>\n",
       "      <td>0</td>\n",
       "    </tr>\n",
       "    <tr>\n",
       "      <th>4</th>\n",
       "      <td>0</td>\n",
       "      <td>137</td>\n",
       "      <td>40</td>\n",
       "      <td>35</td>\n",
       "      <td>168</td>\n",
       "      <td>43.1</td>\n",
       "      <td>2.288</td>\n",
       "      <td>33</td>\n",
       "      <td>1</td>\n",
       "    </tr>\n",
       "  </tbody>\n",
       "</table>\n",
       "</div>"
      ],
      "text/plain": [
       "   Pregnancies  Glucose  BloodPressure  SkinThickness  Insulin   BMI  \\\n",
       "0            6      148             72             35        0  33.6   \n",
       "1            1       85             66             29        0  26.6   \n",
       "2            8      183             64              0        0  23.3   \n",
       "3            1       89             66             23       94  28.1   \n",
       "4            0      137             40             35      168  43.1   \n",
       "\n",
       "   DiabetesPedigreeFunction  Age  Outcome  \n",
       "0                     0.627   50        1  \n",
       "1                     0.351   31        0  \n",
       "2                     0.672   32        1  \n",
       "3                     0.167   21        0  \n",
       "4                     2.288   33        1  "
      ]
     },
     "execution_count": 165,
     "metadata": {},
     "output_type": "execute_result"
    }
   ],
   "source": [
    "# 读取数据\n",
    "# path to where the data lies\n",
    "dpath = './'\n",
    "train = pd.read_csv(dpath +\"diabetes.csv\")\n",
    "train.head()"
   ]
  },
  {
   "cell_type": "code",
   "execution_count": 166,
   "metadata": {
    "scrolled": false
   },
   "outputs": [
    {
     "name": "stdout",
     "output_type": "stream",
     "text": [
      "<class 'pandas.core.frame.DataFrame'>\n",
      "RangeIndex: 768 entries, 0 to 767\n",
      "Data columns (total 9 columns):\n",
      "Pregnancies                 768 non-null int64\n",
      "Glucose                     768 non-null int64\n",
      "BloodPressure               768 non-null int64\n",
      "SkinThickness               768 non-null int64\n",
      "Insulin                     768 non-null int64\n",
      "BMI                         768 non-null float64\n",
      "DiabetesPedigreeFunction    768 non-null float64\n",
      "Age                         768 non-null int64\n",
      "Outcome                     768 non-null int64\n",
      "dtypes: float64(2), int64(7)\n",
      "memory usage: 54.1 KB\n"
     ]
    }
   ],
   "source": [
    "train.info()"
   ]
  },
  {
   "cell_type": "code",
   "execution_count": 167,
   "metadata": {},
   "outputs": [
    {
     "data": {
      "text/plain": [
       "Pregnancies                 0\n",
       "Glucose                     0\n",
       "BloodPressure               0\n",
       "SkinThickness               0\n",
       "Insulin                     0\n",
       "BMI                         0\n",
       "DiabetesPedigreeFunction    0\n",
       "Age                         0\n",
       "Outcome                     0\n",
       "dtype: int64"
      ]
     },
     "execution_count": 167,
     "metadata": {},
     "output_type": "execute_result"
    }
   ],
   "source": [
    "train.isnull().sum()"
   ]
  },
  {
   "cell_type": "code",
   "execution_count": 168,
   "metadata": {
    "scrolled": true
   },
   "outputs": [
    {
     "data": {
      "text/html": [
       "<div>\n",
       "<style>\n",
       "    .dataframe thead tr:only-child th {\n",
       "        text-align: right;\n",
       "    }\n",
       "\n",
       "    .dataframe thead th {\n",
       "        text-align: left;\n",
       "    }\n",
       "\n",
       "    .dataframe tbody tr th {\n",
       "        vertical-align: top;\n",
       "    }\n",
       "</style>\n",
       "<table border=\"1\" class=\"dataframe\">\n",
       "  <thead>\n",
       "    <tr style=\"text-align: right;\">\n",
       "      <th></th>\n",
       "      <th>Pregnancies</th>\n",
       "      <th>Glucose</th>\n",
       "      <th>BloodPressure</th>\n",
       "      <th>SkinThickness</th>\n",
       "      <th>Insulin</th>\n",
       "      <th>BMI</th>\n",
       "      <th>DiabetesPedigreeFunction</th>\n",
       "      <th>Age</th>\n",
       "      <th>Outcome</th>\n",
       "    </tr>\n",
       "  </thead>\n",
       "  <tbody>\n",
       "    <tr>\n",
       "      <th>count</th>\n",
       "      <td>768.000000</td>\n",
       "      <td>768.000000</td>\n",
       "      <td>768.000000</td>\n",
       "      <td>768.000000</td>\n",
       "      <td>768.000000</td>\n",
       "      <td>768.000000</td>\n",
       "      <td>768.000000</td>\n",
       "      <td>768.000000</td>\n",
       "      <td>768.000000</td>\n",
       "    </tr>\n",
       "    <tr>\n",
       "      <th>mean</th>\n",
       "      <td>3.845052</td>\n",
       "      <td>120.894531</td>\n",
       "      <td>69.105469</td>\n",
       "      <td>20.536458</td>\n",
       "      <td>79.799479</td>\n",
       "      <td>31.992578</td>\n",
       "      <td>0.471876</td>\n",
       "      <td>33.240885</td>\n",
       "      <td>0.348958</td>\n",
       "    </tr>\n",
       "    <tr>\n",
       "      <th>std</th>\n",
       "      <td>3.369578</td>\n",
       "      <td>31.972618</td>\n",
       "      <td>19.355807</td>\n",
       "      <td>15.952218</td>\n",
       "      <td>115.244002</td>\n",
       "      <td>7.884160</td>\n",
       "      <td>0.331329</td>\n",
       "      <td>11.760232</td>\n",
       "      <td>0.476951</td>\n",
       "    </tr>\n",
       "    <tr>\n",
       "      <th>min</th>\n",
       "      <td>0.000000</td>\n",
       "      <td>0.000000</td>\n",
       "      <td>0.000000</td>\n",
       "      <td>0.000000</td>\n",
       "      <td>0.000000</td>\n",
       "      <td>0.000000</td>\n",
       "      <td>0.078000</td>\n",
       "      <td>21.000000</td>\n",
       "      <td>0.000000</td>\n",
       "    </tr>\n",
       "    <tr>\n",
       "      <th>25%</th>\n",
       "      <td>1.000000</td>\n",
       "      <td>99.000000</td>\n",
       "      <td>62.000000</td>\n",
       "      <td>0.000000</td>\n",
       "      <td>0.000000</td>\n",
       "      <td>27.300000</td>\n",
       "      <td>0.243750</td>\n",
       "      <td>24.000000</td>\n",
       "      <td>0.000000</td>\n",
       "    </tr>\n",
       "    <tr>\n",
       "      <th>50%</th>\n",
       "      <td>3.000000</td>\n",
       "      <td>117.000000</td>\n",
       "      <td>72.000000</td>\n",
       "      <td>23.000000</td>\n",
       "      <td>30.500000</td>\n",
       "      <td>32.000000</td>\n",
       "      <td>0.372500</td>\n",
       "      <td>29.000000</td>\n",
       "      <td>0.000000</td>\n",
       "    </tr>\n",
       "    <tr>\n",
       "      <th>75%</th>\n",
       "      <td>6.000000</td>\n",
       "      <td>140.250000</td>\n",
       "      <td>80.000000</td>\n",
       "      <td>32.000000</td>\n",
       "      <td>127.250000</td>\n",
       "      <td>36.600000</td>\n",
       "      <td>0.626250</td>\n",
       "      <td>41.000000</td>\n",
       "      <td>1.000000</td>\n",
       "    </tr>\n",
       "    <tr>\n",
       "      <th>max</th>\n",
       "      <td>17.000000</td>\n",
       "      <td>199.000000</td>\n",
       "      <td>122.000000</td>\n",
       "      <td>99.000000</td>\n",
       "      <td>846.000000</td>\n",
       "      <td>67.100000</td>\n",
       "      <td>2.420000</td>\n",
       "      <td>81.000000</td>\n",
       "      <td>1.000000</td>\n",
       "    </tr>\n",
       "  </tbody>\n",
       "</table>\n",
       "</div>"
      ],
      "text/plain": [
       "       Pregnancies     Glucose  BloodPressure  SkinThickness     Insulin  \\\n",
       "count   768.000000  768.000000     768.000000     768.000000  768.000000   \n",
       "mean      3.845052  120.894531      69.105469      20.536458   79.799479   \n",
       "std       3.369578   31.972618      19.355807      15.952218  115.244002   \n",
       "min       0.000000    0.000000       0.000000       0.000000    0.000000   \n",
       "25%       1.000000   99.000000      62.000000       0.000000    0.000000   \n",
       "50%       3.000000  117.000000      72.000000      23.000000   30.500000   \n",
       "75%       6.000000  140.250000      80.000000      32.000000  127.250000   \n",
       "max      17.000000  199.000000     122.000000      99.000000  846.000000   \n",
       "\n",
       "              BMI  DiabetesPedigreeFunction         Age     Outcome  \n",
       "count  768.000000                768.000000  768.000000  768.000000  \n",
       "mean    31.992578                  0.471876   33.240885    0.348958  \n",
       "std      7.884160                  0.331329   11.760232    0.476951  \n",
       "min      0.000000                  0.078000   21.000000    0.000000  \n",
       "25%     27.300000                  0.243750   24.000000    0.000000  \n",
       "50%     32.000000                  0.372500   29.000000    0.000000  \n",
       "75%     36.600000                  0.626250   41.000000    1.000000  \n",
       "max     67.100000                  2.420000   81.000000    1.000000  "
      ]
     },
     "execution_count": 168,
     "metadata": {},
     "output_type": "execute_result"
    }
   ],
   "source": [
    "## 各属性的统计特性\n",
    "train.describe()"
   ]
  },
  {
   "cell_type": "markdown",
   "metadata": {},
   "source": [
    "# 离群点检查"
   ]
  },
  {
   "cell_type": "code",
   "execution_count": 169,
   "metadata": {},
   "outputs": [
    {
     "data": {
      "image/png": "[encoded data removed]",
      "text/plain": [
       "<matplotlib.figure.Figure at 0x157c75c0>"
      ]
     },
     "metadata": {},
     "output_type": "display_data"
    },
    {
     "data": {
      "image/png": "[encoded data removed]",
      "text/plain": [
       "<matplotlib.figure.Figure at 0x157ea828>"
      ]
     },
     "metadata": {},
     "output_type": "display_data"
    },
    {
     "data": {
      "image/png": "[encoded data removed]",
      "text/plain": [
       "<matplotlib.figure.Figure at 0x14ce3a20>"
      ]
     },
     "metadata": {},
     "output_type": "display_data"
    },
    {
     "data": {
      "image/png": "[encoded data removed]",
      "text/plain": [
       "<matplotlib.figure.Figure at 0x14cf44e0>"
      ]
     },
     "metadata": {},
     "output_type": "display_data"
    }
   ],
   "source": [
    "# 离群点检测（outliers）\n",
    "plt.scatter(train.SkinThickness, train.Outcome, c = \"blue\", marker = \"s\")\n",
    "plt.title(\"Looking for outliers\")\n",
    "plt.xlabel(\"SkinThickness\")\n",
    "plt.ylabel(\"Outcome\")\n",
    "plt.show()\n",
    "\n",
    "#剔除离群点\n",
    "train = train[train.SkinThickness < 70]\n",
    "temp = train.reindex()\n",
    "\n",
    "# 离群点检测（outliers）\n",
    "plt.scatter(train.Insulin, train.Outcome, c = \"blue\", marker = \"s\")\n",
    "plt.title(\"Looking for outliers\")\n",
    "plt.xlabel(\"Insulin\")\n",
    "plt.ylabel(\"Outcome\")\n",
    "plt.show()\n",
    "#剔除离群点\n",
    "train = train[train.Insulin < 680]\n",
    "temp = train.reindex()\n",
    "\n",
    "# 离群点检测（outliers）\n",
    "plt.scatter(train.BMI, train.Outcome, c = \"blue\", marker = \"s\")\n",
    "plt.title(\"Looking for outliers\")\n",
    "plt.xlabel(\"BMI\")\n",
    "plt.ylabel(\"Outcome\")\n",
    "plt.show()\n",
    "#剔除离群点\n",
    "train = train[train.BMI < 65]\n",
    "temp = train.reindex()\n",
    "\n",
    "# 离群点检测（outliers）\n",
    "plt.scatter(train.Age, train.Outcome, c = \"blue\", marker = \"s\")\n",
    "plt.title(\"Looking for outliers\")\n",
    "plt.xlabel(\"Age\")\n",
    "plt.ylabel(\"Outcome\")\n",
    "plt.show()\n",
    "#剔除离群点\n",
    "train = train[train.Age < 80]\n",
    "temp = train.reindex()"
   ]
  },
  {
   "cell_type": "markdown",
   "metadata": {},
   "source": [
    "## 特征工程"
   ]
  },
  {
   "cell_type": "code",
   "execution_count": 170,
   "metadata": {},
   "outputs": [
    {
     "data": {
      "text/html": [
       "<div>\n",
       "<style>\n",
       "    .dataframe thead tr:only-child th {\n",
       "        text-align: right;\n",
       "    }\n",
       "\n",
       "    .dataframe thead th {\n",
       "        text-align: left;\n",
       "    }\n",
       "\n",
       "    .dataframe tbody tr th {\n",
       "        vertical-align: top;\n",
       "    }\n",
       "</style>\n",
       "<table border=\"1\" class=\"dataframe\">\n",
       "  <thead>\n",
       "    <tr style=\"text-align: right;\">\n",
       "      <th></th>\n",
       "      <th>Pregnancies</th>\n",
       "      <th>Glucose</th>\n",
       "      <th>BloodPressure</th>\n",
       "      <th>SkinThickness</th>\n",
       "      <th>Insulin</th>\n",
       "      <th>BMI</th>\n",
       "      <th>DiabetesPedigreeFunction</th>\n",
       "      <th>Age</th>\n",
       "      <th>Outcome</th>\n",
       "    </tr>\n",
       "  </thead>\n",
       "  <tbody>\n",
       "    <tr>\n",
       "      <th>count</th>\n",
       "      <td>762.000000</td>\n",
       "      <td>762.000000</td>\n",
       "      <td>762.000000</td>\n",
       "      <td>762.000000</td>\n",
       "      <td>762.000000</td>\n",
       "      <td>762.000000</td>\n",
       "      <td>762.000000</td>\n",
       "      <td>762.000000</td>\n",
       "      <td>762.000000</td>\n",
       "    </tr>\n",
       "    <tr>\n",
       "      <th>mean</th>\n",
       "      <td>3.854331</td>\n",
       "      <td>120.519685</td>\n",
       "      <td>69.027559</td>\n",
       "      <td>20.339895</td>\n",
       "      <td>77.199475</td>\n",
       "      <td>31.920604</td>\n",
       "      <td>0.469676</td>\n",
       "      <td>33.132546</td>\n",
       "      <td>0.347769</td>\n",
       "    </tr>\n",
       "    <tr>\n",
       "      <th>std</th>\n",
       "      <td>3.369655</td>\n",
       "      <td>31.717217</td>\n",
       "      <td>19.356685</td>\n",
       "      <td>15.704606</td>\n",
       "      <td>107.435570</td>\n",
       "      <td>7.771173</td>\n",
       "      <td>0.325657</td>\n",
       "      <td>11.585006</td>\n",
       "      <td>0.476575</td>\n",
       "    </tr>\n",
       "    <tr>\n",
       "      <th>min</th>\n",
       "      <td>0.000000</td>\n",
       "      <td>0.000000</td>\n",
       "      <td>0.000000</td>\n",
       "      <td>0.000000</td>\n",
       "      <td>0.000000</td>\n",
       "      <td>0.000000</td>\n",
       "      <td>0.078000</td>\n",
       "      <td>21.000000</td>\n",
       "      <td>0.000000</td>\n",
       "    </tr>\n",
       "    <tr>\n",
       "      <th>25%</th>\n",
       "      <td>1.000000</td>\n",
       "      <td>99.000000</td>\n",
       "      <td>62.000000</td>\n",
       "      <td>0.000000</td>\n",
       "      <td>0.000000</td>\n",
       "      <td>27.300000</td>\n",
       "      <td>0.241500</td>\n",
       "      <td>24.000000</td>\n",
       "      <td>0.000000</td>\n",
       "    </tr>\n",
       "    <tr>\n",
       "      <th>50%</th>\n",
       "      <td>3.000000</td>\n",
       "      <td>117.000000</td>\n",
       "      <td>72.000000</td>\n",
       "      <td>23.000000</td>\n",
       "      <td>24.000000</td>\n",
       "      <td>32.000000</td>\n",
       "      <td>0.370000</td>\n",
       "      <td>29.000000</td>\n",
       "      <td>0.000000</td>\n",
       "    </tr>\n",
       "    <tr>\n",
       "      <th>75%</th>\n",
       "      <td>6.000000</td>\n",
       "      <td>140.000000</td>\n",
       "      <td>80.000000</td>\n",
       "      <td>32.000000</td>\n",
       "      <td>126.000000</td>\n",
       "      <td>36.500000</td>\n",
       "      <td>0.626750</td>\n",
       "      <td>40.750000</td>\n",
       "      <td>1.000000</td>\n",
       "    </tr>\n",
       "    <tr>\n",
       "      <th>max</th>\n",
       "      <td>17.000000</td>\n",
       "      <td>199.000000</td>\n",
       "      <td>122.000000</td>\n",
       "      <td>63.000000</td>\n",
       "      <td>600.000000</td>\n",
       "      <td>59.400000</td>\n",
       "      <td>2.420000</td>\n",
       "      <td>72.000000</td>\n",
       "      <td>1.000000</td>\n",
       "    </tr>\n",
       "  </tbody>\n",
       "</table>\n",
       "</div>"
      ],
      "text/plain": [
       "       Pregnancies     Glucose  BloodPressure  SkinThickness     Insulin  \\\n",
       "count   762.000000  762.000000     762.000000     762.000000  762.000000   \n",
       "mean      3.854331  120.519685      69.027559      20.339895   77.199475   \n",
       "std       3.369655   31.717217      19.356685      15.704606  107.435570   \n",
       "min       0.000000    0.000000       0.000000       0.000000    0.000000   \n",
       "25%       1.000000   99.000000      62.000000       0.000000    0.000000   \n",
       "50%       3.000000  117.000000      72.000000      23.000000   24.000000   \n",
       "75%       6.000000  140.000000      80.000000      32.000000  126.000000   \n",
       "max      17.000000  199.000000     122.000000      63.000000  600.000000   \n",
       "\n",
       "              BMI  DiabetesPedigreeFunction         Age     Outcome  \n",
       "count  762.000000                762.000000  762.000000  762.000000  \n",
       "mean    31.920604                  0.469676   33.132546    0.347769  \n",
       "std      7.771173                  0.325657   11.585006    0.476575  \n",
       "min      0.000000                  0.078000   21.000000    0.000000  \n",
       "25%     27.300000                  0.241500   24.000000    0.000000  \n",
       "50%     32.000000                  0.370000   29.000000    0.000000  \n",
       "75%     36.500000                  0.626750   40.750000    1.000000  \n",
       "max     59.400000                  2.420000   72.000000    1.000000  "
      ]
     },
     "execution_count": 170,
     "metadata": {},
     "output_type": "execute_result"
    }
   ],
   "source": [
    "train.describe()"
   ]
  },
  {
   "cell_type": "markdown",
   "metadata": {},
   "source": [
    "### 查看特征列中0元素的数量"
   ]
  },
  {
   "cell_type": "code",
   "execution_count": 171,
   "metadata": {},
   "outputs": [
    {
     "name": "stdout",
     "output_type": "stream",
     "text": [
      "Pregnancies = 109\n",
      "Glucose = 5\n",
      "BloodPressure = 35\n",
      "SkinThickness = 227\n",
      "Insulin = 373\n",
      "BMI = 11\n",
      "DiabetesPedigreeFunction = 0\n",
      "Age = 0\n",
      "Outcome = 497\n"
     ]
    }
   ],
   "source": [
    "for a in train.columns:\n",
    "    print('%s = %d'% (a ,len(train[train[a]==0])))\n",
    "    #m=train[a].mean\n",
    "    #train[a].replace({0:m},inplace = True)"
   ]
  },
  {
   "cell_type": "markdown",
   "metadata": {},
   "source": [
    "### 中位数填充0位置"
   ]
  },
  {
   "cell_type": "code",
   "execution_count": 172,
   "metadata": {
    "collapsed": true
   },
   "outputs": [],
   "source": [
    "a=117\n",
    "train.Glucose.replace({0:a},inplace = True)\n",
    "a=72\n",
    "train.BloodPressure.replace({0 : a},inplace = True)\n",
    "a=23\n",
    "train.SkinThickness.replace({0 : a},inplace = True)\n",
    "a=24\n",
    "train.Insulin.replace({0 : a},inplace = True)\n",
    "a=32\n",
    "train.BMI.replace({0 : a},inplace = True)"
   ]
  },
  {
   "cell_type": "code",
   "execution_count": 173,
   "metadata": {},
   "outputs": [
    {
     "name": "stdout",
     "output_type": "stream",
     "text": [
      "Pregnancies = 109\n",
      "Glucose = 0\n",
      "BloodPressure = 0\n",
      "SkinThickness = 0\n",
      "Insulin = 0\n",
      "BMI = 0\n",
      "DiabetesPedigreeFunction = 0\n",
      "Age = 0\n",
      "Outcome = 497\n"
     ]
    }
   ],
   "source": [
    "for a in train.columns:\n",
    "    print('%s = %d'% (a ,len(train[train[a]==0])))"
   ]
  },
  {
   "cell_type": "code",
   "execution_count": 174,
   "metadata": {},
   "outputs": [
    {
     "name": "stdout",
     "output_type": "stream",
     "text": [
      "<class 'pandas.core.frame.DataFrame'>\n",
      "Int64Index: 762 entries, 0 to 767\n",
      "Data columns (total 9 columns):\n",
      "Pregnancies                 762 non-null int64\n",
      "Glucose                     762 non-null int64\n",
      "BloodPressure               762 non-null int64\n",
      "SkinThickness               762 non-null int64\n",
      "Insulin                     762 non-null int64\n",
      "BMI                         762 non-null float64\n",
      "DiabetesPedigreeFunction    762 non-null float64\n",
      "Age                         762 non-null int64\n",
      "Outcome                     762 non-null int64\n",
      "dtypes: float64(2), int64(7)\n",
      "memory usage: 59.5 KB\n"
     ]
    }
   ],
   "source": [
    "train.info()\n",
    "#type(train)"
   ]
  },
  {
   "cell_type": "markdown",
   "metadata": {},
   "source": [
    "## 划分训练集"
   ]
  },
  {
   "cell_type": "code",
   "execution_count": 175,
   "metadata": {
    "collapsed": true
   },
   "outputs": [],
   "source": [
    "# 将类别字符串变成数字\n",
    "# drop ids and get labels\n",
    "Y = train['Outcome']   #形式为Class_x\n",
    "\n",
    "X = train.drop([\"Outcome\"], axis=1)\n",
    "X = np.array(X)\n",
    "\n",
    "\n",
    "\n",
    "#考虑用train_test_split来划分20%的样本作为测试集，用来测试模型性能。80%的样本作为训练集做交叉验证"
   ]
  },
  {
   "cell_type": "markdown",
   "metadata": {},
   "source": [
    "## 数据集划分"
   ]
  },
  {
   "cell_type": "code",
   "execution_count": 176,
   "metadata": {
    "collapsed": true
   },
   "outputs": [],
   "source": [
    "def data_set_split(X,Y):\n",
    "    from sklearn.cross_validation import train_test_split\n",
    "    # 考虑random_state=42 保证每次分组一致，保证模型稳定\n",
    "    X_train, X_test, y_train,y_test = train_test_split(X, Y, test_size=0.2) \n",
    "    return X_train, X_test, y_train, y_test\n"
   ]
  },
  {
   "cell_type": "code",
   "execution_count": 177,
   "metadata": {
    "collapsed": true
   },
   "outputs": [],
   "source": [
    "X_train, X_test, y_train, y_test=data_set_split(X,Y)\n"
   ]
  },
  {
   "cell_type": "markdown",
   "metadata": {},
   "source": [
    "## 数据预处理"
   ]
  },
  {
   "cell_type": "code",
   "execution_count": 178,
   "metadata": {
    "collapsed": true
   },
   "outputs": [],
   "source": [
    "# 数据标准化\n",
    "from sklearn.preprocessing import StandardScaler\n",
    "\n",
    "# 初始化特征的标准化器\n",
    "ss_X = StandardScaler()\n",
    "\n",
    "# 分别对训练和测试数据的特征进行标准化处理\n",
    "X_train = ss_X.fit_transform(X_train)\n",
    "X_test = ss_X.transform(X_test)\n"
   ]
  },
  {
   "cell_type": "markdown",
   "metadata": {},
   "source": [
    "将0.2的数据作为测试集"
   ]
  },
  {
   "cell_type": "code",
   "execution_count": 179,
   "metadata": {
    "scrolled": true
   },
   "outputs": [
    {
     "name": "stdout",
     "output_type": "stream",
     "text": [
      "(609, 8) (153, 8)\n"
     ]
    }
   ],
   "source": [
    "print(X_train.shape,X_test.shape)"
   ]
  },
  {
   "cell_type": "code",
   "execution_count": 180,
   "metadata": {},
   "outputs": [
    {
     "data": {
      "image/png": "[encoded data removed]",
      "text/plain": [
       "<matplotlib.figure.Figure at 0x15551f60>"
      ]
     },
     "metadata": {},
     "output_type": "display_data"
    }
   ],
   "source": [
    "# Target 分布，看看各类样本分布是否均衡\n",
    "sns.countplot(y_test);\n",
    "plt.xlabel('target');\n",
    "plt.ylabel('Number of occurrences');"
   ]
  },
  {
   "cell_type": "markdown",
   "metadata": {},
   "source": [
    "## 模型训练"
   ]
  },
  {
   "cell_type": "markdown",
   "metadata": {},
   "source": [
    "### default Logistic Regression"
   ]
  },
  {
   "cell_type": "code",
   "execution_count": 181,
   "metadata": {
    "collapsed": true
   },
   "outputs": [],
   "source": [
    "from sklearn.linear_model import LogisticRegression\n",
    "lr= LogisticRegression()"
   ]
  },
  {
   "cell_type": "code",
   "execution_count": 182,
   "metadata": {
    "collapsed": true,
    "scrolled": false
   },
   "outputs": [],
   "source": [
    "# 交叉验证用于评估模型性能和进行参数调优（模型选择）\n",
    "#分类任务中交叉验证缺省是采用StratifiedKFold\n",
    "from sklearn.cross_validation import cross_val_score\n",
    "loss = cross_val_score(lr, X_train, y_train, cv=5, scoring='neg_log_loss')"
   ]
  },
  {
   "cell_type": "code",
   "execution_count": 183,
   "metadata": {},
   "outputs": [
    {
     "name": "stdout",
     "output_type": "stream",
     "text": [
      "logloss of each fold is:  [0.49774804 0.51974567 0.43553242 0.46999837 0.4581063 ]\n",
      "cv logloss is: 0.4762261585708817\n"
     ]
    }
   ],
   "source": [
    "print ('logloss of each fold is: ',-loss)\n",
    "print ('cv logloss is:', -loss.mean())"
   ]
  },
  {
   "cell_type": "markdown",
   "metadata": {},
   "source": [
    "### 正则化的 Logistic Regression及参数调优"
   ]
  },
  {
   "cell_type": "markdown",
   "metadata": {},
   "source": [
    "logistic回归的需要调整超参数有：C（正则系数，一般在log域（取log后的值）均匀设置候选参数）和正则函数penalty（L2/L1） \n",
    "目标函数为：J = sum(logloss(f(xi), yi)) + C* penalty \n",
    "\n",
    "在sklearn框架下，不同学习器的参数调整步骤相同：\n",
    "设置候选参数集合\n",
    "调用GridSearchCV\n",
    "调用fit"
   ]
  },
  {
   "cell_type": "code",
   "execution_count": 184,
   "metadata": {
    "scrolled": false
   },
   "outputs": [
    {
     "data": {
      "text/plain": [
       "GridSearchCV(cv=5, error_score='raise',\n",
       "       estimator=LogisticRegression(C=1.0, class_weight=None, dual=False, fit_intercept=True,\n",
       "          intercept_scaling=1, max_iter=100, multi_class='ovr', n_jobs=1,\n",
       "          penalty='l2', random_state=None, solver='liblinear', tol=0.0001,\n",
       "          verbose=0, warm_start=False),\n",
       "       fit_params=None, iid=True, n_jobs=1,\n",
       "       param_grid={'penalty': ['l1', 'l2'], 'C': [0.001, 0.01, 0.1, 1, 10, 100, 1000]},\n",
       "       pre_dispatch='2*n_jobs', refit=True, return_train_score='warn',\n",
       "       scoring='neg_log_loss', verbose=0)"
      ]
     },
     "execution_count": 184,
     "metadata": {},
     "output_type": "execute_result"
    }
   ],
   "source": [
    "from sklearn.model_selection import GridSearchCV\n",
    "from sklearn.linear_model import LogisticRegression\n",
    "\n",
    "#需要调优的参数\n",
    "# 请尝试将L1正则和L2正则分开，并配合合适的优化求解算法（slover）\n",
    "#tuned_parameters = {'penalty':['l1','l2'],\n",
    "#                   'C': [0.001, 0.01, 0.1, 1, 10, 100, 1000]\n",
    "#                   }\n",
    "penaltys = ['l1','l2']\n",
    "Cs = [0.001, 0.01, 0.1, 1, 10, 100, 1000]\n",
    "\n",
    "tuned_parameters = dict(penalty = penaltys, C = Cs)\n",
    "\n",
    "lr_penalty= LogisticRegression()\n",
    "grid= GridSearchCV(lr_penalty, tuned_parameters,cv=5, scoring='neg_log_loss')\n",
    "grid.fit(X_train,y_train)"
   ]
  },
  {
   "cell_type": "code",
   "execution_count": 185,
   "metadata": {
    "scrolled": false
   },
   "outputs": [
    {
     "name": "stderr",
     "output_type": "stream",
     "text": [
      "C:\\ProgramData\\Anaconda3\\lib\\site-packages\\sklearn\\utils\\deprecation.py:122: FutureWarning: You are accessing a training score ('mean_train_score'), which will not be available by default any more in 0.21. If you need training scores, please set return_train_score=True\n",
      "  warnings.warn(*warn_args, **warn_kwargs)\n",
      "C:\\ProgramData\\Anaconda3\\lib\\site-packages\\sklearn\\utils\\deprecation.py:122: FutureWarning: You are accessing a training score ('split0_train_score'), which will not be available by default any more in 0.21. If you need training scores, please set return_train_score=True\n",
      "  warnings.warn(*warn_args, **warn_kwargs)\n",
      "C:\\ProgramData\\Anaconda3\\lib\\site-packages\\sklearn\\utils\\deprecation.py:122: FutureWarning: You are accessing a training score ('split1_train_score'), which will not be available by default any more in 0.21. If you need training scores, please set return_train_score=True\n",
      "  warnings.warn(*warn_args, **warn_kwargs)\n",
      "C:\\ProgramData\\Anaconda3\\lib\\site-packages\\sklearn\\utils\\deprecation.py:122: FutureWarning: You are accessing a training score ('split2_train_score'), which will not be available by default any more in 0.21. If you need training scores, please set return_train_score=True\n",
      "  warnings.warn(*warn_args, **warn_kwargs)\n",
      "C:\\ProgramData\\Anaconda3\\lib\\site-packages\\sklearn\\utils\\deprecation.py:122: FutureWarning: You are accessing a training score ('split3_train_score'), which will not be available by default any more in 0.21. If you need training scores, please set return_train_score=True\n",
      "  warnings.warn(*warn_args, **warn_kwargs)\n",
      "C:\\ProgramData\\Anaconda3\\lib\\site-packages\\sklearn\\utils\\deprecation.py:122: FutureWarning: You are accessing a training score ('split4_train_score'), which will not be available by default any more in 0.21. If you need training scores, please set return_train_score=True\n",
      "  warnings.warn(*warn_args, **warn_kwargs)\n",
      "C:\\ProgramData\\Anaconda3\\lib\\site-packages\\sklearn\\utils\\deprecation.py:122: FutureWarning: You are accessing a training score ('std_train_score'), which will not be available by default any more in 0.21. If you need training scores, please set return_train_score=True\n",
      "  warnings.warn(*warn_args, **warn_kwargs)\n"
     ]
    },
    {
     "data": {
      "text/plain": [
       "{'mean_fit_time': array([0.00080004, 0.00120006, 0.0006    , 0.00100021, 0.00100017,\n",
       "        0.0012001 , 0.00100002, 0.00099998, 0.00100007, 0.00100007,\n",
       "        0.00100002, 0.00100012, 0.0012001 , 0.00100007]),\n",
       " 'mean_score_time': array([0.0006001 , 0.0012001 , 0.00100007, 0.0006    , 0.00079999,\n",
       "        0.00080009, 0.00120015, 0.00120015, 0.0006    , 0.00100002,\n",
       "        0.00100007, 0.00059996, 0.00080004, 0.00100007]),\n",
       " 'mean_test_score': array([-0.69314718, -0.63909448, -0.67203755, -0.52486252, -0.47937345,\n",
       "        -0.47706096, -0.47585682, -0.47625591, -0.47671252, -0.47675377,\n",
       "        -0.47680858, -0.47681435, -0.47681972, -0.47682053]),\n",
       " 'mean_train_score': array([-0.69314718, -0.63727158, -0.67170905, -0.51702308, -0.46836657,\n",
       "        -0.46115327, -0.45676045, -0.45661568, -0.45653567, -0.45653411,\n",
       "        -0.45653324, -0.45653322, -0.45653321, -0.45653321]),\n",
       " 'param_C': masked_array(data=[0.001, 0.001, 0.01, 0.01, 0.1, 0.1, 1, 1, 10, 10, 100,\n",
       "                    100, 1000, 1000],\n",
       "              mask=[False, False, False, False, False, False, False, False,\n",
       "                    False, False, False, False, False, False],\n",
       "        fill_value='?',\n",
       "             dtype=object),\n",
       " 'param_penalty': masked_array(data=['l1', 'l2', 'l1', 'l2', 'l1', 'l2', 'l1', 'l2', 'l1',\n",
       "                    'l2', 'l1', 'l2', 'l1', 'l2'],\n",
       "              mask=[False, False, False, False, False, False, False, False,\n",
       "                    False, False, False, False, False, False],\n",
       "        fill_value='?',\n",
       "             dtype=object),\n",
       " 'params': [{'C': 0.001, 'penalty': 'l1'},\n",
       "  {'C': 0.001, 'penalty': 'l2'},\n",
       "  {'C': 0.01, 'penalty': 'l1'},\n",
       "  {'C': 0.01, 'penalty': 'l2'},\n",
       "  {'C': 0.1, 'penalty': 'l1'},\n",
       "  {'C': 0.1, 'penalty': 'l2'},\n",
       "  {'C': 1, 'penalty': 'l1'},\n",
       "  {'C': 1, 'penalty': 'l2'},\n",
       "  {'C': 10, 'penalty': 'l1'},\n",
       "  {'C': 10, 'penalty': 'l2'},\n",
       "  {'C': 100, 'penalty': 'l1'},\n",
       "  {'C': 100, 'penalty': 'l2'},\n",
       "  {'C': 1000, 'penalty': 'l1'},\n",
       "  {'C': 1000, 'penalty': 'l2'}],\n",
       " 'rank_test_score': array([14, 12, 13, 11, 10,  9,  1,  2,  3,  4,  5,  6,  7,  8]),\n",
       " 'split0_test_score': array([-0.69314718, -0.64793121, -0.67015232, -0.54963436, -0.50658731,\n",
       "        -0.5006098 , -0.49737867, -0.49774804, -0.49790832, -0.49796   ,\n",
       "        -0.49798265, -0.4979909 , -0.49799292, -0.4979941 ]),\n",
       " 'split0_train_score': array([-0.69314718, -0.63272259, -0.6664933 , -0.5097652 , -0.46143075,\n",
       "        -0.4550568 , -0.45074562, -0.45060525, -0.45052607, -0.45052461,\n",
       "        -0.45052374, -0.45052372, -0.45052371, -0.45052371]),\n",
       " 'split1_test_score': array([-0.69314718, -0.6399004 , -0.67029416, -0.53390549, -0.50478733,\n",
       "        -0.50837291, -0.51810362, -0.51974567, -0.52201753, -0.52219466,\n",
       "        -0.52243947, -0.52246326, -0.52248372, -0.52249038]),\n",
       " 'split1_train_score': array([-0.69314718, -0.63664988, -0.66838641, -0.5127599 , -0.46066713,\n",
       "        -0.4524595 , -0.44734374, -0.44717929, -0.44708198, -0.44708025,\n",
       "        -0.44707919, -0.44707917, -0.44707916, -0.44707916]),\n",
       " 'split2_test_score': array([-0.69314718, -0.63138718, -0.67196414, -0.49587288, -0.45441117,\n",
       "        -0.43849504, -0.43761401, -0.43553242, -0.43587499, -0.43567942,\n",
       "        -0.43572372, -0.4357022 , -0.43571053, -0.43570457]),\n",
       " 'split2_train_score': array([-0.69314718, -0.64166174, -0.67233745, -0.52659798, -0.47761802,\n",
       "        -0.4709935 , -0.46670425, -0.46655305, -0.46647634, -0.46647483,\n",
       "        -0.466474  , -0.46647398, -0.46647397, -0.46647397]),\n",
       " 'split3_test_score': array([-0.69314718, -0.6370589 , -0.67402293, -0.52182633, -0.46500095,\n",
       "        -0.47274406, -0.46833788, -0.46999837, -0.47003999, -0.47015515,\n",
       "        -0.47016451, -0.47017904, -0.47017915, -0.47018152]),\n",
       " 'split3_train_score': array([-0.69314718, -0.6382725 , -0.67559049, -0.51799456, -0.47107602,\n",
       "        -0.46290847, -0.45863812, -0.45854004, -0.45846367, -0.45846226,\n",
       "        -0.45846144, -0.45846142, -0.45846141, -0.45846141]),\n",
       " 'split4_test_score': array([-0.69314718, -0.63919552, -0.67376838, -0.52305873, -0.4659706 ,\n",
       "        -0.46498399, -0.4577011 , -0.4581063 , -0.45756483, -0.45762282,\n",
       "        -0.45757488, -0.45757869, -0.45757453, -0.45757432]),\n",
       " 'split4_train_score': array([-0.69314718, -0.63705118, -0.67573763, -0.51799778, -0.47104093,\n",
       "        -0.4643481 , -0.46037053, -0.46020075, -0.46013031, -0.46012858,\n",
       "        -0.46012783, -0.4601278 , -0.4601278 , -0.4601278 ]),\n",
       " 'std_fit_time': array([4.00018706e-04, 4.00018706e-04, 4.89901382e-04, 9.53674316e-08,\n",
       "        1.50789149e-07, 3.99994861e-04, 1.16800773e-07, 9.53674316e-08,\n",
       "        1.16800773e-07, 1.16800773e-07, 1.16800773e-07, 1.78416128e-07,\n",
       "        4.00114074e-04, 1.90734863e-07]),\n",
       " 'std_score_time': array([4.89979265e-04, 4.00114074e-04, 1.16800773e-07, 4.89901382e-04,\n",
       "        3.99994861e-04, 4.00042573e-04, 9.79870896e-04, 3.99971037e-04,\n",
       "        4.89901382e-04, 1.16800773e-07, 1.16800773e-07, 4.89862441e-04,\n",
       "        4.00018706e-04, 1.16800773e-07]),\n",
       " 'std_test_score': array([0.        , 0.00533905, 0.00164524, 0.0176114 , 0.02190086,\n",
       "        0.02526199, 0.02863802, 0.02961326, 0.03028259, 0.03038349,\n",
       "        0.03045368, 0.03046668, 0.03047136, 0.03047506]),\n",
       " 'std_train_score': array([0.        , 0.00287763, 0.00373989, 0.00573453, 0.00644158,\n",
       "        0.00667632, 0.00693239, 0.0069351 , 0.0069418 , 0.00694183,\n",
       "        0.00694191, 0.00694191, 0.00694192, 0.00694192])}"
      ]
     },
     "execution_count": 185,
     "metadata": {},
     "output_type": "execute_result"
    }
   ],
   "source": [
    "# view the complete results (list of named tuples)\n",
    "grid.cv_results_"
   ]
  },
  {
   "cell_type": "code",
   "execution_count": 186,
   "metadata": {
    "scrolled": true
   },
   "outputs": [
    {
     "name": "stdout",
     "output_type": "stream",
     "text": [
      "0.47585681753109677\n",
      "{'C': 1, 'penalty': 'l1'}\n"
     ]
    }
   ],
   "source": [
    "# examine the best model\n",
    "print(-grid.best_score_)\n",
    "print(grid.best_params_)"
   ]
  },
  {
   "cell_type": "markdown",
   "metadata": {},
   "source": [
    "如果最佳值在候选参数的边缘，最好再尝试更大的候选参数或更小的候选参数，直到找到拐点。\n",
    "l2, c=100"
   ]
  },
  {
   "cell_type": "code",
   "execution_count": 187,
   "metadata": {
    "scrolled": true
   },
   "outputs": [
    {
     "name": "stderr",
     "output_type": "stream",
     "text": [
      "C:\\ProgramData\\Anaconda3\\lib\\site-packages\\sklearn\\utils\\deprecation.py:122: FutureWarning: You are accessing a training score ('mean_train_score'), which will not be available by default any more in 0.21. If you need training scores, please set return_train_score=True\n",
      "  warnings.warn(*warn_args, **warn_kwargs)\n",
      "C:\\ProgramData\\Anaconda3\\lib\\site-packages\\sklearn\\utils\\deprecation.py:122: FutureWarning: You are accessing a training score ('std_train_score'), which will not be available by default any more in 0.21. If you need training scores, please set return_train_score=True\n",
      "  warnings.warn(*warn_args, **warn_kwargs)\n"
     ]
    },
    {
     "data": {
      "image/png": "[encoded data removed]",
      "text/plain": [
       "<matplotlib.figure.Figure at 0x14cf4a20>"
      ]
     },
     "metadata": {},
     "output_type": "display_data"
    }
   ],
   "source": [
    "# plot CV误差曲线\n",
    "test_means = grid.cv_results_[ 'mean_test_score' ]\n",
    "test_stds = grid.cv_results_[ 'std_test_score' ]\n",
    "train_means = grid.cv_results_[ 'mean_train_score' ]\n",
    "train_stds = grid.cv_results_[ 'std_train_score' ]\n",
    "\n",
    "\n",
    "# plot results\n",
    "n_Cs = len(Cs)\n",
    "number_penaltys = len(penaltys)\n",
    "test_scores = np.array(test_means).reshape(n_Cs,number_penaltys)\n",
    "train_scores = np.array(train_means).reshape(n_Cs,number_penaltys)\n",
    "test_stds = np.array(test_stds).reshape(n_Cs,number_penaltys)\n",
    "train_stds = np.array(train_stds).reshape(n_Cs,number_penaltys)\n",
    "\n",
    "x_axis = np.log10(Cs)\n",
    "for i, value in enumerate(penaltys):\n",
    "    #pyplot.plot(log(Cs), test_scores[i], label= 'penalty:'   + str(value))\n",
    "    plt.errorbar(x_axis, test_scores[:,i], yerr=test_stds[:,i] ,label = penaltys[i] +' Test')\n",
    "    plt.errorbar(x_axis, train_scores[:,i], yerr=train_stds[:,i] ,label = penaltys[i] +' Train')\n",
    "    \n",
    "plt.legend()\n",
    "plt.xlabel( 'log(C)' )                                                                                                      \n",
    "plt.ylabel( 'neg-logloss' )\n",
    "plt.savefig('LogisticGridSearchCV_C.png' )\n",
    "\n",
    "plt.show()"
   ]
  },
  {
   "cell_type": "markdown",
   "metadata": {},
   "source": [
    "上图给出了L1正则和L2正则下、不同正则参数C对应的模型在训练集上测试集上的正确率（score）。可以看出在训练集上C越大（正则越少）的模型性能越好；但在测试集上当C=100时性能最好（L1正则和L2正则均是）"
   ]
  },
  {
   "cell_type": "markdown",
   "metadata": {},
   "source": [
    "### 用LogisticRegressionCV实现正则化的 Logistic Regression"
   ]
  },
  {
   "cell_type": "markdown",
   "metadata": {},
   "source": [
    "### L1正则"
   ]
  },
  {
   "cell_type": "code",
   "execution_count": 188,
   "metadata": {
    "scrolled": true
   },
   "outputs": [
    {
     "data": {
      "text/plain": [
       "LogisticRegressionCV(Cs=[0.1, 0.2, 0.3, 0.4, 0.5, 0.6, 0.7, 0.8, 0.9, 1.0, 1.1, 1.2, 1.3, 1.4, 1.5, 1.6, 1.7, 1.8, 1.9, 2.0, 2.1, 2.2, 2.3, 2.4, 2.5, 2.6, 2.7, 2.8, 2.9, 3.0, 3.1, 3.2, 3.3, 3.4, 3.5, 3.6, 3.7, 3.8, 3.9, 4.0, 4.1, 4.2, 4.3, 4.4, 4.5, 4.6, 4.7, 4.8, 4.9, 5.0, 5.1, 5.2, 5.3, 5.4, 5.5, 5.6, 5.7, 5.8, 5.9, 6.0, 6.1, 6.2, 6.3, 6.4, 6.5, 6.6, 6.7, 6.8, 6.9, 7.0, 7.1, 7.2, 7.3, 7.4, 7.5, 7.6, 7.7, 7.8, 7.9, 8.0, 8.1, 8.2, 8.3, 8.4, 8.5, 8.6, 8.7, 8.8, 8.9, 9.0, 9.1, 9.2, 9.3, 9.4, 9.5, 9.6, 9.7, 9.8, 9.9],\n",
       "           class_weight=None, cv=5, dual=False, fit_intercept=True,\n",
       "           intercept_scaling=1.0, max_iter=100, multi_class='ovr',\n",
       "           n_jobs=1, penalty='l1', random_state=None, refit=True,\n",
       "           scoring='neg_log_loss', solver='liblinear', tol=0.0001,\n",
       "           verbose=0)"
      ]
     },
     "execution_count": 188,
     "metadata": {},
     "output_type": "execute_result"
    }
   ],
   "source": [
    "from sklearn.linear_model import LogisticRegressionCV\n",
    "\n",
    "#Cs = [1e-06, 1e-05, 0.0001, 0.001, 0.01, 0.1,1,10,100,1000]\n",
    "Cs=[i/10 for i in range(1,100)]\n",
    "# LogisticRegressionCV比GridSearchCV快\n",
    "lrcv_L1 = LogisticRegressionCV(Cs=Cs, cv = 5, scoring='neg_log_loss', penalty='l1', solver='liblinear')\n",
    "lrcv_L1.fit(X_train, y_train)    "
   ]
  },
  {
   "cell_type": "code",
   "execution_count": 189,
   "metadata": {
    "scrolled": true
   },
   "outputs": [
    {
     "data": {
      "text/plain": [
       "{1: array([[-0.50658553, -0.50027168, -0.49833978, -0.49772419, -0.49750423,\n",
       "         -0.49741914, -0.49738338, -0.49737062, -0.49737356, -0.49738012,\n",
       "         -0.49738948, -0.49741535, -0.49744898, -0.49747731, -0.49750528,\n",
       "         -0.49752793, -0.49755104, -0.49757922, -0.49758998, -0.49760357,\n",
       "         -0.4976234 , -0.49764197, -0.49765172, -0.49766402, -0.4976746 ,\n",
       "         -0.49768927, -0.49769478, -0.49770536, -0.497713  , -0.49772324,\n",
       "         -0.49773029, -0.49773423, -0.49774552, -0.49775036, -0.49776202,\n",
       "         -0.49776437, -0.49776681, -0.49777415, -0.49778055, -0.49778126,\n",
       "         -0.49779089, -0.49779738, -0.49779953, -0.49780286, -0.497811  ,\n",
       "         -0.49781082, -0.49781398, -0.49781867, -0.4978237 , -0.4978232 ,\n",
       "         -0.49782389, -0.49783086, -0.4978331 , -0.49783925, -0.4978407 ,\n",
       "         -0.49783934, -0.49784595, -0.49784658, -0.49784912, -0.49785287,\n",
       "         -0.49785422, -0.49785664, -0.49785481, -0.4978597 , -0.49786111,\n",
       "         -0.49786132, -0.49786607, -0.49786706, -0.49786853, -0.4978724 ,\n",
       "         -0.49787195, -0.49787468, -0.4978786 , -0.49787726, -0.49787792,\n",
       "         -0.49788282, -0.49788105, -0.49788538, -0.49788521, -0.49788344,\n",
       "         -0.49788845, -0.49788828, -0.4978868 , -0.49788996, -0.49789195,\n",
       "         -0.49789303, -0.49789238, -0.49789728, -0.49789632, -0.49790254,\n",
       "         -0.49789965, -0.49790128, -0.49790257, -0.49790474, -0.49790508,\n",
       "         -0.49790516, -0.49790604, -0.49790436, -0.49790942],\n",
       "        [-0.50477135, -0.50720322, -0.51060083, -0.51287738, -0.51445268,\n",
       "         -0.51559995, -0.51645663, -0.51712668, -0.51766491, -0.51810434,\n",
       "         -0.51846179, -0.51878735, -0.51904596, -0.51927511, -0.51948067,\n",
       "         -0.51965203, -0.51981827, -0.51995742, -0.52008303, -0.52019769,\n",
       "         -0.52030604, -0.52039987, -0.52048724, -0.52056447, -0.52064567,\n",
       "         -0.52071503, -0.52078042, -0.52083391, -0.52088944, -0.52093981,\n",
       "         -0.52098514, -0.5210286 , -0.52107944, -0.52112047, -0.52116185,\n",
       "         -0.52119678, -0.52122746, -0.52125644, -0.52128708, -0.52131941,\n",
       "         -0.52134596, -0.52136976, -0.52140093, -0.52141918, -0.52144068,\n",
       "         -0.52147181, -0.52148539, -0.52150741, -0.5215295 , -0.52155025,\n",
       "         -0.52156332, -0.52157502, -0.52159872, -0.52162768, -0.52162807,\n",
       "         -0.52164881, -0.52166275, -0.52166671, -0.52168531, -0.52170251,\n",
       "         -0.52171486, -0.52172119, -0.52173987, -0.52175233, -0.52175981,\n",
       "         -0.5217744 , -0.52178133, -0.52179659, -0.52180063, -0.52181801,\n",
       "         -0.52181576, -0.52183376, -0.52184006, -0.52184897, -0.52185929,\n",
       "         -0.52187018, -0.52188113, -0.52188147, -0.52189222, -0.52189958,\n",
       "         -0.52190341, -0.52191025, -0.52192196, -0.5219246 , -0.52193163,\n",
       "         -0.52194013, -0.52194525, -0.5219538 , -0.52195848, -0.52196282,\n",
       "         -0.52196431, -0.52197732, -0.5219723 , -0.5219848 , -0.52198287,\n",
       "         -0.52199775, -0.52200185, -0.522002  , -0.52200562],\n",
       "        [-0.45441198, -0.44471206, -0.44151998, -0.44011152, -0.43934903,\n",
       "         -0.43886464, -0.4385003 , -0.43813665, -0.43784366, -0.43760713,\n",
       "         -0.4374268 , -0.43727069, -0.4371443 , -0.43702844, -0.43693898,\n",
       "         -0.43685185, -0.436788  , -0.43672277, -0.43666838, -0.43662078,\n",
       "         -0.43656615, -0.43653155, -0.43649482, -0.4364606 , -0.43642837,\n",
       "         -0.43639887, -0.43637378, -0.43634744, -0.43632556, -0.43630218,\n",
       "         -0.43628551, -0.43626603, -0.43624708, -0.43623398, -0.4362188 ,\n",
       "         -0.43619569, -0.43618706, -0.4361736 , -0.43616238, -0.43615239,\n",
       "         -0.43613531, -0.43612909, -0.43611926, -0.43610981, -0.43609987,\n",
       "         -0.4360948 , -0.43607936, -0.43607423, -0.43606788, -0.43606431,\n",
       "         -0.43605092, -0.43604456, -0.43604192, -0.43603344, -0.43602639,\n",
       "         -0.43602344, -0.43601349, -0.43601285, -0.43600388, -0.43600035,\n",
       "         -0.43599295, -0.43599016, -0.43598568, -0.43597105, -0.43597812,\n",
       "         -0.43597206, -0.43596631, -0.43596426, -0.43596307, -0.43595804,\n",
       "         -0.43595202, -0.43595111, -0.43595126, -0.43594334, -0.43594139,\n",
       "         -0.43593742, -0.4359338 , -0.43593106, -0.43592641, -0.43592533,\n",
       "         -0.43591948, -0.43591675, -0.43591648, -0.4359145 , -0.43591045,\n",
       "         -0.43590944, -0.43590428, -0.43590516, -0.43590489, -0.43590188,\n",
       "         -0.43590154, -0.4358979 , -0.43589637, -0.43588992, -0.43589423,\n",
       "         -0.43589314, -0.43588969, -0.43588485, -0.43588559],\n",
       "        [-0.46500172, -0.46421549, -0.4652673 , -0.46612258, -0.46676786,\n",
       "         -0.46724053, -0.4676075 , -0.46790851, -0.46814096, -0.4683393 ,\n",
       "         -0.46851066, -0.46864838, -0.46876372, -0.46886759, -0.46895691,\n",
       "         -0.46904202, -0.46911201, -0.4691726 , -0.46923176, -0.46928769,\n",
       "         -0.469339  , -0.46938547, -0.46941932, -0.46946299, -0.46949548,\n",
       "         -0.46952842, -0.46955786, -0.46958181, -0.46960772, -0.46962726,\n",
       "         -0.46965063, -0.46967064, -0.46969525, -0.46971924, -0.46973558,\n",
       "         -0.46974763, -0.46976271, -0.46977996, -0.46979267, -0.46981259,\n",
       "         -0.46981392, -0.46983666, -0.46983888, -0.46985614, -0.46986392,\n",
       "         -0.46987825, -0.46988764, -0.46990601, -0.46990717, -0.46990652,\n",
       "         -0.46991304, -0.46991705, -0.46991464, -0.46991884, -0.46992778,\n",
       "         -0.46993555, -0.46993863, -0.46994621, -0.46994774, -0.46995712,\n",
       "         -0.46995083, -0.46995322, -0.46996153, -0.46997186, -0.4699644 ,\n",
       "         -0.46997082, -0.46997059, -0.46998108, -0.46998368, -0.46997811,\n",
       "         -0.46998635, -0.46998698, -0.46998726, -0.46999935, -0.46999697,\n",
       "         -0.46999787, -0.4699938 , -0.47000648, -0.47000808, -0.4700083 ,\n",
       "         -0.47000784, -0.4700166 , -0.47001379, -0.47002039, -0.47001589,\n",
       "         -0.47001767, -0.47002097, -0.47002193, -0.47002461, -0.47002235,\n",
       "         -0.47003147, -0.47002311, -0.47003149, -0.47003141, -0.47003173,\n",
       "         -0.47003675, -0.47003283, -0.47002773, -0.47003774],\n",
       "        [-0.46596702, -0.46040181, -0.45854463, -0.45809016, -0.45791591,\n",
       "         -0.45784025, -0.45780802, -0.45779993, -0.45774719, -0.45770266,\n",
       "         -0.45767376, -0.45764986, -0.45762496, -0.45761629, -0.45760771,\n",
       "         -0.45759572, -0.45759446, -0.45758676, -0.45758602, -0.45757881,\n",
       "         -0.45757635, -0.45757322, -0.45756929, -0.45757059, -0.45756827,\n",
       "         -0.45756365, -0.45756734, -0.45756315, -0.45756454, -0.4575634 ,\n",
       "         -0.45756446, -0.45756785, -0.4575623 , -0.45756315, -0.4575642 ,\n",
       "         -0.45756456, -0.4575626 , -0.45755847, -0.45756375, -0.45756027,\n",
       "         -0.45755693, -0.4575603 , -0.45756113, -0.45756327, -0.45756144,\n",
       "         -0.45756042, -0.45756331, -0.45756192, -0.45756567, -0.45756198,\n",
       "         -0.45756134, -0.45756175, -0.45756286, -0.45756254, -0.45756154,\n",
       "         -0.45756182, -0.45756286, -0.45756138, -0.45756355, -0.45756411,\n",
       "         -0.45756369, -0.45756498, -0.45756424, -0.45756115, -0.45756361,\n",
       "         -0.457562  , -0.45756315, -0.45756321, -0.45756299, -0.45756495,\n",
       "         -0.45756365, -0.45756992, -0.45756391, -0.45756261, -0.45756444,\n",
       "         -0.45756508, -0.45756335, -0.45756665, -0.45756444, -0.45756684,\n",
       "         -0.45756339, -0.45756493, -0.45756633, -0.45756265, -0.45756181,\n",
       "         -0.45756907, -0.45756582, -0.45756579, -0.45756559, -0.45756039,\n",
       "         -0.45756495, -0.45756734, -0.4575639 , -0.45756955, -0.45757111,\n",
       "         -0.45756561, -0.45756618, -0.45756924, -0.45756545]])}"
      ]
     },
     "execution_count": 189,
     "metadata": {},
     "output_type": "execute_result"
    }
   ],
   "source": [
    "lrcv_L1.scores_"
   ]
  },
  {
   "cell_type": "code",
   "execution_count": 190,
   "metadata": {},
   "outputs": [
    {
     "name": "stdout",
     "output_type": "stream",
     "text": [
      "[-0.47934752 -0.47536085 -0.4748545  -0.47498517 -0.47519794 -0.4753929\n",
      " -0.47555116 -0.47566848 -0.47575406 -0.47582671 -0.4758925  -0.47595433\n",
      " -0.47600558 -0.47605295 -0.47609791 -0.47613391 -0.47617275 -0.47620375\n",
      " -0.47623183 -0.47625771 -0.47628219 -0.47630642 -0.47632448 -0.47634453\n",
      " -0.47636248 -0.47637905 -0.47639483 -0.47640633 -0.47642005 -0.47643118\n",
      " -0.47644321 -0.47645347 -0.47646592 -0.47647744 -0.47648849 -0.47649381\n",
      " -0.47650133 -0.47650853 -0.47651729 -0.47652518 -0.4765286  -0.47653864\n",
      " -0.47654395 -0.47655025 -0.47655538 -0.47656322 -0.47656593 -0.47657365\n",
      " -0.47657878 -0.47658125 -0.4765825  -0.47658585 -0.47659025 -0.47659635\n",
      " -0.4765969  -0.47660179 -0.47660473 -0.47660675 -0.47660992 -0.47661539\n",
      " -0.47661531 -0.47661724 -0.47662123 -0.47662322 -0.47662541 -0.47662812\n",
      " -0.47662949 -0.47663444 -0.47663578 -0.4766383  -0.47663795 -0.47664329\n",
      " -0.47664422 -0.47664631 -0.476648   -0.47665067 -0.47665062 -0.47665421\n",
      " -0.47665527 -0.4766567  -0.47665652 -0.47665936 -0.47666107 -0.47666242\n",
      " -0.47666234 -0.47666587 -0.47666574 -0.47666879 -0.47666998 -0.47667\n",
      " -0.47667238 -0.47667339 -0.47667333 -0.47667608 -0.476677   -0.47667968\n",
      " -0.47667932 -0.47667764 -0.47668076]\n"
     ]
    },
    {
     "data": {
      "image/png": "[encoded data removed]",
      "text/plain": [
       "<matplotlib.figure.Figure at 0x15afdf60>"
      ]
     },
     "metadata": {},
     "output_type": "display_data"
    }
   ],
   "source": [
    "# dict with classes as the keys, and the values as the grid of scores obtained during cross-validating each fold,\n",
    "# Each dict value has shape (n_folds, len(Cs))\n",
    "n_Cs = len(Cs)\n",
    "n_classes = 1\n",
    "scores =  np.zeros((n_classes,n_Cs))\n",
    "print(np.mean(lrcv_L1.scores_[1],axis = 0))\n",
    "\n",
    "scores[0][:] = np.mean(lrcv_L1.scores_[1],axis = 0)\n",
    "    \n",
    "mse_mean = np.mean(scores, axis = 0)\n",
    "plt.plot(np.log10(Cs), mse_mean.reshape(n_Cs,1)) \n",
    "#plt.plot(np.log10(reg.Cs)*np.ones(3), [0.28, 0.29, 0.30])\n",
    "plt.xlabel('log(C)')\n",
    "plt.ylabel('neg-logloss')\n",
    "plt.show()\n",
    "\n",
    "#print ('C is:',lr_cv.C_)  #对多类分类问题，每个类别的分类器有一个C"
   ]
  },
  {
   "cell_type": "code",
   "execution_count": 191,
   "metadata": {
    "scrolled": true
   },
   "outputs": [
    {
     "data": {
      "text/plain": [
       "array([[ 0.39060253,  1.03600268, -0.1289584 ,  0.        ,  0.        ,\n",
       "         0.65064014,  0.25543848,  0.13298697]])"
      ]
     },
     "execution_count": 191,
     "metadata": {},
     "output_type": "execute_result"
    }
   ],
   "source": [
    "lrcv_L1.coef_"
   ]
  },
  {
   "cell_type": "code",
   "execution_count": 192,
   "metadata": {
    "scrolled": true
   },
   "outputs": [
    {
     "name": "stdout",
     "output_type": "stream",
     "text": [
      "best C  is: [0.3]\n"
     ]
    }
   ],
   "source": [
    "print ('best C  is:',lrcv_L1.C_)"
   ]
  },
  {
   "cell_type": "markdown",
   "metadata": {},
   "source": [
    "LogisticRegressionCV + L1正则 最优C选择，有稀疏解"
   ]
  },
  {
   "cell_type": "code",
   "execution_count": 193,
   "metadata": {
    "scrolled": true
   },
   "outputs": [
    {
     "name": "stdout",
     "output_type": "stream",
     "text": [
      "Classification report for classifier LogisticRegressionCV(Cs=[0.1, 0.2, 0.3, 0.4, 0.5, 0.6, 0.7, 0.8, 0.9, 1.0, 1.1, 1.2, 1.3, 1.4, 1.5, 1.6, 1.7, 1.8, 1.9, 2.0, 2.1, 2.2, 2.3, 2.4, 2.5, 2.6, 2.7, 2.8, 2.9, 3.0, 3.1, 3.2, 3.3, 3.4, 3.5, 3.6, 3.7, 3.8, 3.9, 4.0, 4.1, 4.2, 4.3, 4.4, 4.5, 4.6, 4.7, 4.8, 4.9, 5.0, 5.1, 5.2, 5.3, 5.4, 5.5, 5.6, 5.7, 5.8, 5.9, 6.0, 6.1, 6.2, 6.3, 6.4, 6.5, 6.6, 6.7, 6.8, 6.9, 7.0, 7.1, 7.2, 7.3, 7.4, 7.5, 7.6, 7.7, 7.8, 7.9, 8.0, 8.1, 8.2, 8.3, 8.4, 8.5, 8.6, 8.7, 8.8, 8.9, 9.0, 9.1, 9.2, 9.3, 9.4, 9.5, 9.6, 9.7, 9.8, 9.9],\n",
      "           class_weight=None, cv=5, dual=False, fit_intercept=True,\n",
      "           intercept_scaling=1.0, max_iter=100, multi_class='ovr',\n",
      "           n_jobs=1, penalty='l1', random_state=None, refit=True,\n",
      "           scoring='neg_log_loss', solver='liblinear', tol=0.0001,\n",
      "           verbose=0):\n",
      "             precision    recall  f1-score   support\n",
      "\n",
      "          0       0.80      0.85      0.82        98\n",
      "          1       0.69      0.62      0.65        55\n",
      "\n",
      "avg / total       0.76      0.76      0.76       153\n",
      "\n",
      "\n",
      "Confusion matrix:\n",
      "[[83 15]\n",
      " [21 34]]\n"
     ]
    }
   ],
   "source": [
    "#使用测试集对模型进行预测\n",
    "from sklearn import metrics\n",
    "pre_test_logis_L1=lrcv_L1.predict(X_test)\n",
    "print(\"Classification report for classifier %s:\\n%s\\n\"\n",
    "      % (lrcv_L1, metrics.classification_report(y_test, pre_test_logis_L1)))\n",
    "print(\"Confusion matrix:\\n%s\" % confusion_matrix(y_test, pre_test_logis_L1))"
   ]
  },
  {
   "cell_type": "markdown",
   "metadata": {},
   "source": [
    "### L2正则"
   ]
  },
  {
   "cell_type": "code",
   "execution_count": 194,
   "metadata": {
    "scrolled": false
   },
   "outputs": [
    {
     "data": {
      "text/plain": [
       "LogisticRegressionCV(Cs=[0.01, 0.02, 0.03, 0.04, 0.05, 0.06, 0.07, 0.08, 0.09, 0.1, 0.11, 0.12, 0.13, 0.14, 0.15, 0.16, 0.17, 0.18, 0.19, 0.2, 0.21, 0.22, 0.23, 0.24, 0.25, 0.26, 0.27, 0.28, 0.29, 0.3, 0.31, 0.32, 0.33, 0.34, 0.35, 0.36, 0.37, 0.38, 0.39, 0.4, 0.41, 0.42, 0.43, 0.44, 0.45, 0.46, 0.47, 0.48, 0.49, 0.5, 0...85, 99.86, 99.87, 99.88, 99.89, 99.9, 99.91, 99.92, 99.93, 99.94, 99.95, 99.96, 99.97, 99.98, 99.99],\n",
       "           class_weight=None, cv=5, dual=False, fit_intercept=True,\n",
       "           intercept_scaling=1.0, max_iter=100, multi_class='ovr',\n",
       "           n_jobs=1, penalty='l2', random_state=None, refit=True,\n",
       "           scoring='neg_log_loss', solver='liblinear', tol=0.0001,\n",
       "           verbose=0)"
      ]
     },
     "execution_count": 194,
     "metadata": {},
     "output_type": "execute_result"
    }
   ],
   "source": [
    "from sklearn.linear_model import LogisticRegressionCV\n",
    "\n",
    "#Cs = [1, 10,100,1000]\n",
    "Cs=[i/100 for i in range(1,10000)]\n",
    "\n",
    "# 大量样本（6W+）、高维度（93），L2正则 --> 缺省用lbfgs，为了和GridSeachCV比较，也用liblinear\n",
    "\n",
    "lr_cv_L2 = LogisticRegressionCV(Cs=Cs, cv = 5, scoring='neg_log_loss', penalty='l2', solver='liblinear', multi_class='ovr')\n",
    "lr_cv_L2.fit(X_train, y_train)    "
   ]
  },
  {
   "cell_type": "code",
   "execution_count": 195,
   "metadata": {},
   "outputs": [
    {
     "data": {
      "text/plain": [
       "{1: array([[-0.54963436, -0.52601218, -0.51588954, ..., -0.4979909 ,\n",
       "         -0.4979909 , -0.4979909 ],\n",
       "        [-0.53390549, -0.51514792, -0.50934004, ..., -0.52246325,\n",
       "         -0.52246326, -0.52246326],\n",
       "        [-0.49587288, -0.46654098, -0.45484069, ..., -0.4357022 ,\n",
       "         -0.4357022 , -0.4357022 ],\n",
       "        [-0.52182633, -0.49729936, -0.48728009, ..., -0.47017904,\n",
       "         -0.47017904, -0.47017904],\n",
       "        [-0.52305873, -0.4959098 , -0.48417421, ..., -0.45757869,\n",
       "         -0.45757869, -0.45757869]])}"
      ]
     },
     "execution_count": 195,
     "metadata": {},
     "output_type": "execute_result"
    }
   ],
   "source": [
    "lr_cv_L2.scores_"
   ]
  },
  {
   "cell_type": "code",
   "execution_count": 196,
   "metadata": {
    "scrolled": false
   },
   "outputs": [
    {
     "name": "stdout",
     "output_type": "stream",
     "text": [
      "[-0.52485956 -0.50018205 -0.49030491 ... -0.47678282 -0.47678282\n",
      " -0.47678282]\n"
     ]
    },
    {
     "data": {
      "image/png": "[encoded data removed]",
      "text/plain": [
       "<matplotlib.figure.Figure at 0x157bc828>"
      ]
     },
     "metadata": {},
     "output_type": "display_data"
    },
    {
     "name": "stdout",
     "output_type": "stream",
     "text": [
      "best C  is: [0.25]\n"
     ]
    }
   ],
   "source": [
    "# dict with classes as the keys, and the values as the grid of scores obtained during cross-validating each fold,\n",
    "# Each dict value has shape (n_folds, len(Cs))\n",
    "n_Cs = len(Cs)\n",
    "n_classes = 1\n",
    "scores =  np.zeros((n_classes,n_Cs))\n",
    "print(np.mean(lr_cv_L2.scores_[1],axis = 0))\n",
    "\n",
    "scores[0][:] = np.mean(lr_cv_L2.scores_[1],axis = 0)\n",
    "    \n",
    "mse_mean = np.mean(scores, axis = 0)\n",
    "plt.plot(np.log10(Cs), mse_mean.reshape(n_Cs,1)) \n",
    "#plt.plot(np.log10(reg.Cs)*np.ones(3), [0.28, 0.29, 0.30])\n",
    "plt.xlabel('log(C)')\n",
    "plt.ylabel('neg-logloss')\n",
    "plt.show()\n",
    "\n",
    "print ('best C  is:',lr_cv_L2.C_)  #对多类分类问题，每个类别的分类器有一个C"
   ]
  },
  {
   "cell_type": "code",
   "execution_count": 197,
   "metadata": {
    "scrolled": false
   },
   "outputs": [
    {
     "name": "stdout",
     "output_type": "stream",
     "text": [
      "Classification report for classifier LogisticRegressionCV(Cs=[0.01, 0.02, 0.03, 0.04, 0.05, 0.06, 0.07, 0.08, 0.09, 0.1, 0.11, 0.12, 0.13, 0.14, 0.15, 0.16, 0.17, 0.18, 0.19, 0.2, 0.21, 0.22, 0.23, 0.24, 0.25, 0.26, 0.27, 0.28, 0.29, 0.3, 0.31, 0.32, 0.33, 0.34, 0.35, 0.36, 0.37, 0.38, 0.39, 0.4, 0.41, 0.42, 0.43, 0.44, 0.45, 0.46, 0.47, 0.48, 0.49, 0.5, 0...85, 99.86, 99.87, 99.88, 99.89, 99.9, 99.91, 99.92, 99.93, 99.94, 99.95, 99.96, 99.97, 99.98, 99.99],\n",
      "           class_weight=None, cv=5, dual=False, fit_intercept=True,\n",
      "           intercept_scaling=1.0, max_iter=100, multi_class='ovr',\n",
      "           n_jobs=1, penalty='l2', random_state=None, refit=True,\n",
      "           scoring='neg_log_loss', solver='liblinear', tol=0.0001,\n",
      "           verbose=0):\n",
      "             precision    recall  f1-score   support\n",
      "\n",
      "          0       0.80      0.85      0.82        98\n",
      "          1       0.69      0.62      0.65        55\n",
      "\n",
      "avg / total       0.76      0.76      0.76       153\n",
      "\n",
      "\n",
      "Confusion matrix:\n",
      "[[83 15]\n",
      " [21 34]]\n"
     ]
    }
   ],
   "source": [
    "#对测试集进行预测\n",
    "from sklearn import metrics\n",
    "pre_test_logis_L2=lr_cv_L2.predict(X_test)\n",
    "print(\"Classification report for classifier %s:\\n%s\\n\"\n",
    "      % (lr_cv_L2, metrics.classification_report(y_test, pre_test_logis_L2)))\n",
    "print(\"Confusion matrix:\\n%s\" % confusion_matrix(y_test, pre_test_logis_L2))"
   ]
  },
  {
   "cell_type": "markdown",
   "metadata": {},
   "source": [
    "# 支持向量机分类回归问题"
   ]
  },
  {
   "cell_type": "code",
   "execution_count": 198,
   "metadata": {
    "collapsed": true
   },
   "outputs": [],
   "source": [
    "#LinearSVC不能得到每类的概率，在Otto数据集要求输出每类的概率，这里只是示意SVM的使用方法\n",
    "#https://xacecask2.gitbooks.io/scikit-learn-user-guide-chinese-version/content/sec1.4.html\n",
    "#1.4.1.2. 得分与概率\n",
    "from sklearn.svm import LinearSVC\n",
    "from sklearn.metrics import accuracy_score\n",
    "\n",
    "SVC1 = LinearSVC().fit(X_train, y_train)"
   ]
  },
  {
   "cell_type": "code",
   "execution_count": 199,
   "metadata": {
    "scrolled": true
   },
   "outputs": [
    {
     "name": "stdout",
     "output_type": "stream",
     "text": [
      "Classification report for classifier LinearSVC(C=1.0, class_weight=None, dual=True, fit_intercept=True,\n",
      "     intercept_scaling=1, loss='squared_hinge', max_iter=1000,\n",
      "     multi_class='ovr', penalty='l2', random_state=None, tol=0.0001,\n",
      "     verbose=0):\n",
      "             precision    recall  f1-score   support\n",
      "\n",
      "          0       0.80      0.86      0.83        98\n",
      "          1       0.71      0.62      0.66        55\n",
      "\n",
      "avg / total       0.77      0.77      0.77       153\n",
      "\n",
      "\n",
      "Confusion matrix:\n",
      "[[84 14]\n",
      " [21 34]]\n"
     ]
    }
   ],
   "source": [
    "#在校验集上测试，估计模型性能\n",
    "y_predict = SVC1.predict(X_test)\n",
    "\n",
    "print(\"Classification report for classifier %s:\\n%s\\n\"\n",
    "      % (SVC1, metrics.classification_report(y_test, y_predict)))\n",
    "print(\"Confusion matrix:\\n%s\" % metrics.confusion_matrix(y_test, y_predict))"
   ]
  },
  {
   "cell_type": "markdown",
   "metadata": {},
   "source": [
    "### 线性SVM正则参数调优"
   ]
  },
  {
   "cell_type": "markdown",
   "metadata": {},
   "source": [
    "线性SVM LinearSVC的需要调整正则超参数包括C（正则系数，一般在log域（取log后的值）均匀设置候选参数）和正则函数penalty（L2/L1） \n",
    "\n",
    "采用交叉验证，网格搜索步骤与Logistic回归正则参数处理类似，在此略。\n",
    "\n",
    "这里我们用校验集（X_val、y_val）来估计模型性能"
   ]
  },
  {
   "cell_type": "code",
   "execution_count": 200,
   "metadata": {
    "collapsed": true
   },
   "outputs": [],
   "source": [
    "def fit_grid_point_Linear(C, X_train, y_train, X_val, y_val):\n",
    "    \n",
    "    # 在训练集是那个利用SVC训练\n",
    "    SVC2 =  LinearSVC( C = C,penalty='l2')\n",
    "    SVC2 = SVC2.fit(X_train, y_train)\n",
    "    \n",
    "    # 在校验集上返回accuracy\n",
    "    accuracy = SVC2.score(X_val, y_val)\n",
    "    \n",
    "    print(\"accuracy: {}\".format(accuracy),\"C=%f\"%(C))\n",
    "    return accuracy"
   ]
  },
  {
   "cell_type": "code",
   "execution_count": 207,
   "metadata": {},
   "outputs": [
    {
     "name": "stdout",
     "output_type": "stream",
     "text": [
      "accuracy: 0.7581699346405228 C=0.010000\n",
      "accuracy: 0.7647058823529411 C=0.021544\n",
      "accuracy: 0.7712418300653595 C=0.046416\n",
      "accuracy: 0.7712418300653595 C=0.100000\n",
      "accuracy: 0.7712418300653595 C=0.215443\n",
      "accuracy: 0.7712418300653595 C=0.464159\n",
      "accuracy: 0.7712418300653595 C=1.000000\n",
      "accuracy: 0.7712418300653595 C=2.154435\n",
      "accuracy: 0.7712418300653595 C=4.641589\n",
      "accuracy: 0.7647058823529411 C=10.000000\n"
     ]
    },
    {
     "data": {
      "image/png": "[encoded data removed]",
      "text/plain": [
       "<matplotlib.figure.Figure at 0x15a99ac8>"
      ]
     },
     "metadata": {},
     "output_type": "display_data"
    }
   ],
   "source": [
    "#需要调优的参数\n",
    "C_s = np.logspace(-2, 1, 10)# logspace(a,b,N)把10的a次方到10的b次方区间分成N份  \n",
    "#penalty_s = ['l1','l2']\n",
    "\n",
    "accuracy_s = []\n",
    "for i, oneC in enumerate(C_s):\n",
    "#    for j, penalty in enumerate(penalty_s):\n",
    "    tmp = fit_grid_point_Linear(oneC, X_train, y_train, X_test, y_test)\n",
    "    accuracy_s.append(tmp)\n",
    "\n",
    "x_axis = np.log10(C_s)\n",
    "#for j, penalty in enumerate(penalty_s):\n",
    "plt.plot(x_axis, np.array(accuracy_s), 'b-')\n",
    "    \n",
    "plt.legend()\n",
    "plt.xlabel( 'log(C)' )                                                                                                      \n",
    "plt.ylabel( 'accuracy' )\n",
    "plt.savefig('SVM_Otto.png' )\n",
    "\n",
    "plt.show()"
   ]
  },
  {
   "cell_type": "markdown",
   "metadata": {},
   "source": [
    "### 综上，线性SVM和Logistics回归对比\n",
    "线性SVM在L2正则下，比Logistics回归性能要好一点，SVM的处理方法是只考虑support vectors，也就是和分类最相关的少数点，去学习分类器，分类只需要计算与少数几个支持向量的距离，计算时优势很明显，能够大大简化模型和计算量。而逻辑回归通过非线性映射，减小了离分类平面较远的点的权重，相对提升了与分类最相关的数据点的权重。"
   ]
  },
  {
   "cell_type": "markdown",
   "metadata": {},
   "source": [
    "### RBF核SVM正则参数调优\n",
    "\n",
    "RBF核是SVM最常用的核函数。\n",
    "RBF核SVM 的需要调整正则超参数包括C（正则系数，一般在log域（取log后的值）均匀设置候选参数）和核函数的宽度gamma\n",
    "C越小，决策边界越平滑； \n",
    "gamma越小，决策边界越平滑。\n",
    "\n",
    "采用交叉验证，网格搜索步骤与Logistic回归正则参数处理类似，在此略。\n",
    "\n",
    "这里我们用校验集（X_val、y_val）来估计模型性能"
   ]
  },
  {
   "cell_type": "code",
   "execution_count": 202,
   "metadata": {
    "collapsed": true
   },
   "outputs": [],
   "source": [
    "from sklearn.svm import SVC"
   ]
  },
  {
   "cell_type": "code",
   "execution_count": 212,
   "metadata": {
    "collapsed": true
   },
   "outputs": [],
   "source": [
    "def fit_grid_point_RBF(C, gamma, X_train, y_train, X_val, y_val):\n",
    "    \n",
    "    # 在训练集是那个利用SVC训练\n",
    "    SVC3 =  SVC( C = C, kernel='rbf', gamma = gamma)\n",
    "    SVC3 = SVC3.fit(X_train, y_train)\n",
    "    \n",
    "    # 在校验集上返回accuracy\n",
    "    accuracy = SVC3.score(X_val, y_val)\n",
    "    \n",
    "    print(\"accuracy: {}\".format(accuracy),\"C=%f\"%(C),\"gamma=%f\"%(gamma))\n",
    "    return accuracy"
   ]
  },
  {
   "cell_type": "code",
   "execution_count": 215,
   "metadata": {},
   "outputs": [
    {
     "name": "stdout",
     "output_type": "stream",
     "text": [
      "accuracy: 0.6405228758169934 C=0.010000 gamma=0.010000\n",
      "accuracy: 0.6405228758169934 C=0.010000 gamma=0.100000\n",
      "accuracy: 0.6405228758169934 C=0.010000 gamma=1.000000\n",
      "accuracy: 0.6405228758169934 C=0.010000 gamma=10.000000\n",
      "accuracy: 0.6405228758169934 C=0.010000 gamma=100.000000\n",
      "accuracy: 0.6405228758169934 C=0.021544 gamma=0.010000\n",
      "accuracy: 0.6405228758169934 C=0.021544 gamma=0.100000\n",
      "accuracy: 0.6405228758169934 C=0.021544 gamma=1.000000\n",
      "accuracy: 0.6405228758169934 C=0.021544 gamma=10.000000\n",
      "accuracy: 0.6405228758169934 C=0.021544 gamma=100.000000\n",
      "accuracy: 0.6405228758169934 C=0.046416 gamma=0.010000\n",
      "accuracy: 0.6470588235294118 C=0.046416 gamma=0.100000\n",
      "accuracy: 0.6405228758169934 C=0.046416 gamma=1.000000\n",
      "accuracy: 0.6405228758169934 C=0.046416 gamma=10.000000\n",
      "accuracy: 0.6405228758169934 C=0.046416 gamma=100.000000\n",
      "accuracy: 0.6405228758169934 C=0.100000 gamma=0.010000\n",
      "accuracy: 0.7777777777777778 C=0.100000 gamma=0.100000\n",
      "accuracy: 0.6405228758169934 C=0.100000 gamma=1.000000\n",
      "accuracy: 0.6405228758169934 C=0.100000 gamma=10.000000\n",
      "accuracy: 0.6405228758169934 C=0.100000 gamma=100.000000\n",
      "accuracy: 0.7450980392156863 C=0.215443 gamma=0.010000\n",
      "accuracy: 0.7973856209150327 C=0.215443 gamma=0.100000\n",
      "accuracy: 0.6405228758169934 C=0.215443 gamma=1.000000\n",
      "accuracy: 0.6405228758169934 C=0.215443 gamma=10.000000\n",
      "accuracy: 0.6405228758169934 C=0.215443 gamma=100.000000\n",
      "accuracy: 0.7647058823529411 C=0.464159 gamma=0.010000\n",
      "accuracy: 0.7973856209150327 C=0.464159 gamma=0.100000\n",
      "accuracy: 0.6405228758169934 C=0.464159 gamma=1.000000\n",
      "accuracy: 0.6405228758169934 C=0.464159 gamma=10.000000\n",
      "accuracy: 0.6405228758169934 C=0.464159 gamma=100.000000\n",
      "accuracy: 0.7581699346405228 C=1.000000 gamma=0.010000\n",
      "accuracy: 0.7908496732026143 C=1.000000 gamma=0.100000\n",
      "accuracy: 0.673202614379085 C=1.000000 gamma=1.000000\n",
      "accuracy: 0.6405228758169934 C=1.000000 gamma=10.000000\n",
      "accuracy: 0.6405228758169934 C=1.000000 gamma=100.000000\n",
      "accuracy: 0.7647058823529411 C=2.154435 gamma=0.010000\n",
      "accuracy: 0.7908496732026143 C=2.154435 gamma=0.100000\n",
      "accuracy: 0.6666666666666666 C=2.154435 gamma=1.000000\n",
      "accuracy: 0.6405228758169934 C=2.154435 gamma=10.000000\n",
      "accuracy: 0.6405228758169934 C=2.154435 gamma=100.000000\n",
      "accuracy: 0.7581699346405228 C=4.641589 gamma=0.010000\n",
      "accuracy: 0.7777777777777778 C=4.641589 gamma=0.100000\n",
      "accuracy: 0.6666666666666666 C=4.641589 gamma=1.000000\n",
      "accuracy: 0.6405228758169934 C=4.641589 gamma=10.000000\n",
      "accuracy: 0.6405228758169934 C=4.641589 gamma=100.000000\n",
      "accuracy: 0.7647058823529411 C=10.000000 gamma=0.010000\n",
      "accuracy: 0.7647058823529411 C=10.000000 gamma=0.100000\n",
      "accuracy: 0.6666666666666666 C=10.000000 gamma=1.000000\n",
      "accuracy: 0.6405228758169934 C=10.000000 gamma=10.000000\n",
      "accuracy: 0.6405228758169934 C=10.000000 gamma=100.000000\n"
     ]
    }
   ],
   "source": [
    "#需要调优的参数\n",
    "C_s = np.logspace(-2, 1, 10)# logspace(a,b,N)把10的a次方到10的b次方区间分成N份 \n",
    "gamma_s = np.logspace(-2, 2, 5)    \n",
    "\n",
    "accuracy_s = []\n",
    "for i, oneC in enumerate(C_s):\n",
    "    for j, gamma in enumerate(gamma_s):\n",
    "        tmp = fit_grid_point_RBF(oneC, gamma, X_train, y_train, X_test, y_test)\n",
    "        accuracy_s.append(tmp)"
   ]
  },
  {
   "cell_type": "markdown",
   "metadata": {},
   "source": [
    "从上述部分运行结果来看，gamma参数设置不合适（gamma越大，对应RBF核的sigma越小，决策边界更复杂，可能发生了过拟合）\n",
    "所以调小gamma值"
   ]
  },
  {
   "cell_type": "code",
   "execution_count": 216,
   "metadata": {},
   "outputs": [
    {
     "name": "stdout",
     "output_type": "stream",
     "text": [
      "accuracy: 0.6405228758169934 C=0.010000 gamma=0.010000\n",
      "accuracy: 0.6405228758169934 C=0.010000 gamma=0.017783\n",
      "accuracy: 0.6405228758169934 C=0.010000 gamma=0.031623\n",
      "accuracy: 0.6405228758169934 C=0.010000 gamma=0.056234\n",
      "accuracy: 0.6405228758169934 C=0.010000 gamma=0.100000\n",
      "accuracy: 0.6405228758169934 C=0.021544 gamma=0.010000\n",
      "accuracy: 0.6405228758169934 C=0.021544 gamma=0.017783\n",
      "accuracy: 0.6405228758169934 C=0.021544 gamma=0.031623\n",
      "accuracy: 0.6405228758169934 C=0.021544 gamma=0.056234\n",
      "accuracy: 0.6405228758169934 C=0.021544 gamma=0.100000\n",
      "accuracy: 0.6405228758169934 C=0.046416 gamma=0.010000\n",
      "accuracy: 0.6405228758169934 C=0.046416 gamma=0.017783\n",
      "accuracy: 0.6405228758169934 C=0.046416 gamma=0.031623\n",
      "accuracy: 0.6470588235294118 C=0.046416 gamma=0.056234\n",
      "accuracy: 0.6470588235294118 C=0.046416 gamma=0.100000\n",
      "accuracy: 0.6405228758169934 C=0.100000 gamma=0.010000\n",
      "accuracy: 0.7058823529411765 C=0.100000 gamma=0.017783\n",
      "accuracy: 0.7581699346405228 C=0.100000 gamma=0.031623\n",
      "accuracy: 0.7843137254901961 C=0.100000 gamma=0.056234\n",
      "accuracy: 0.7777777777777778 C=0.100000 gamma=0.100000\n",
      "accuracy: 0.7450980392156863 C=0.215443 gamma=0.010000\n",
      "accuracy: 0.7712418300653595 C=0.215443 gamma=0.017783\n",
      "accuracy: 0.7712418300653595 C=0.215443 gamma=0.031623\n",
      "accuracy: 0.7777777777777778 C=0.215443 gamma=0.056234\n",
      "accuracy: 0.7973856209150327 C=0.215443 gamma=0.100000\n",
      "accuracy: 0.7647058823529411 C=0.464159 gamma=0.010000\n",
      "accuracy: 0.7581699346405228 C=0.464159 gamma=0.017783\n",
      "accuracy: 0.7843137254901961 C=0.464159 gamma=0.031623\n",
      "accuracy: 0.7777777777777778 C=0.464159 gamma=0.056234\n",
      "accuracy: 0.7973856209150327 C=0.464159 gamma=0.100000\n",
      "accuracy: 0.7581699346405228 C=1.000000 gamma=0.010000\n",
      "accuracy: 0.7712418300653595 C=1.000000 gamma=0.017783\n",
      "accuracy: 0.7712418300653595 C=1.000000 gamma=0.031623\n",
      "accuracy: 0.7647058823529411 C=1.000000 gamma=0.056234\n",
      "accuracy: 0.7908496732026143 C=1.000000 gamma=0.100000\n",
      "accuracy: 0.7647058823529411 C=2.154435 gamma=0.010000\n",
      "accuracy: 0.7647058823529411 C=2.154435 gamma=0.017783\n",
      "accuracy: 0.7712418300653595 C=2.154435 gamma=0.031623\n",
      "accuracy: 0.7843137254901961 C=2.154435 gamma=0.056234\n",
      "accuracy: 0.7908496732026143 C=2.154435 gamma=0.100000\n",
      "accuracy: 0.7581699346405228 C=4.641589 gamma=0.010000\n",
      "accuracy: 0.7647058823529411 C=4.641589 gamma=0.017783\n",
      "accuracy: 0.7777777777777778 C=4.641589 gamma=0.031623\n",
      "accuracy: 0.7843137254901961 C=4.641589 gamma=0.056234\n",
      "accuracy: 0.7777777777777778 C=4.641589 gamma=0.100000\n",
      "accuracy: 0.7647058823529411 C=10.000000 gamma=0.010000\n",
      "accuracy: 0.7712418300653595 C=10.000000 gamma=0.017783\n",
      "accuracy: 0.7843137254901961 C=10.000000 gamma=0.031623\n",
      "accuracy: 0.7843137254901961 C=10.000000 gamma=0.056234\n",
      "accuracy: 0.7647058823529411 C=10.000000 gamma=0.100000\n"
     ]
    }
   ],
   "source": [
    "#需要调优的参数\n",
    "C_s = np.logspace(-2, 1, 10)# logspace(a,b,N)把10的a次方到10的b次方区间分成N份 \n",
    "gamma_s = np.logspace(-2, -1, 5)  \n",
    "\n",
    "accuracy_s = []\n",
    "for i, oneC in enumerate(C_s):\n",
    "    for j, gamma in enumerate(gamma_s):\n",
    "        tmp = fit_grid_point_RBF(oneC, gamma, X_train, y_train, X_test, y_test)\n",
    "        accuracy_s.append(tmp)"
   ]
  },
  {
   "cell_type": "code",
   "execution_count": 217,
   "metadata": {},
   "outputs": [
    {
     "data": {
      "image/png": "[encoded data removed]",
      "text/plain": [
       "<matplotlib.figure.Figure at 0x1519b630>"
      ]
     },
     "metadata": {},
     "output_type": "display_data"
    }
   ],
   "source": [
    "accuracy_s1 =np.array(accuracy_s).reshape(len(C_s),len(gamma_s))\n",
    "x_axis = np.log10(C_s)\n",
    "for j, gamma in enumerate(gamma_s):\n",
    "    plt.plot(x_axis, np.array(accuracy_s1[:,j]), label = ' Test - log(gamma)' + str(np.log10(gamma)))\n",
    "\n",
    "plt.legend()\n",
    "plt.xlabel( 'log(C)' )                                                                                                      \n",
    "plt.ylabel( 'accuracy' )\n",
    "plt.savefig('RBF_SVM_Otto.png' )\n",
    "\n",
    "plt.show()"
   ]
  },
  {
   "cell_type": "markdown",
   "metadata": {
    "collapsed": true
   },
   "source": [
    "accuracy: 0.7973856209150327 C=0.215443 gamma=0.100000 这个时候结果比较理想一点"
   ]
  },
  {
   "cell_type": "code",
   "execution_count": null,
   "metadata": {
    "collapsed": true
   },
   "outputs": [],
   "source": []
  }
 ],
 "metadata": {
  "kernelspec": {
   "display_name": "Python 3",
   "language": "python",
   "name": "python3"
  },
  "language_info": {
   "codemirror_mode": {
    "name": "ipython",
    "version": 3
   },
   "file_extension": ".py",
   "mimetype": "text/x-python",
   "name": "python",
   "nbconvert_exporter": "python",
   "pygments_lexer": "ipython3",
   "version": "3.6.3"
  }
 },
 "nbformat": 4,
 "nbformat_minor": 2
}
