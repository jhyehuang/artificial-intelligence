{
 "cells": [
  {
   "cell_type": "markdown",
   "metadata": {},
   "source": [
    "# Logistic 回归——Otto商品分类"
   ]
  },
  {
   "cell_type": "markdown",
   "metadata": {},
   "source": [
    "我们以Kaggle 2015年举办的Otto Group Product Classification Challenge竞赛数据为例，分别调用缺省参数LogisticRegression、LogisticRegression + GridSearchCV以及LogisticRegressionCV进行参数调优。实际应用中LogisticRegression + GridSearchCV或LogisticRegressionCV任选一个即可。\n",
    "\n",
    "Otto数据集是著名电商Otto提供的一个多类商品分类问题，类别数=9. 每个样本有93维数值型特征（整数，表示某种事件发生的次数，已经进行过脱敏处理）。 竞赛官网：https://www.kaggle.com/c/otto-group-product-classification-challenge/data\n",
    "\n",
    "\n",
    "第一名：https://www.kaggle.com/c/otto-group-product-classification-challenge/discussion/14335\n",
    "第二名：http://blog.kaggle.com/2015/06/09/otto-product-classification-winners-interview-2nd-place-alexander-guschin/"
   ]
  },
  {
   "cell_type": "code",
   "execution_count": 2,
   "metadata": {
    "collapsed": true
   },
   "outputs": [],
   "source": [
    "# 首先 import 必要的模块\n",
    "import pandas as pd \n",
    "import numpy as np\n",
    "\n",
    "from sklearn.model_selection import GridSearchCV\n",
    "\n",
    "#竞赛的评价指标为logloss\n",
    "from sklearn.metrics import log_loss  \n",
    "\n",
    "from matplotlib import pyplot\n",
    "import seaborn as sns\n",
    "%matplotlib inline"
   ]
  },
  {
   "cell_type": "markdown",
   "metadata": {},
   "source": [
    "## 读取数据 & 数据探索"
   ]
  },
  {
   "cell_type": "code",
   "execution_count": 3,
   "metadata": {
    "scrolled": true
   },
   "outputs": [
    {
     "data": {
      "text/html": [
       "<div>\n",
       "<style>\n",
       "    .dataframe thead tr:only-child th {\n",
       "        text-align: right;\n",
       "    }\n",
       "\n",
       "    .dataframe thead th {\n",
       "        text-align: left;\n",
       "    }\n",
       "\n",
       "    .dataframe tbody tr th {\n",
       "        vertical-align: top;\n",
       "    }\n",
       "</style>\n",
       "<table border=\"1\" class=\"dataframe\">\n",
       "  <thead>\n",
       "    <tr style=\"text-align: right;\">\n",
       "      <th></th>\n",
       "      <th>id</th>\n",
       "      <th>feat_1</th>\n",
       "      <th>feat_2</th>\n",
       "      <th>feat_3</th>\n",
       "      <th>feat_4</th>\n",
       "      <th>feat_5</th>\n",
       "      <th>feat_6</th>\n",
       "      <th>feat_7</th>\n",
       "      <th>feat_8</th>\n",
       "      <th>feat_9</th>\n",
       "      <th>...</th>\n",
       "      <th>feat_85</th>\n",
       "      <th>feat_86</th>\n",
       "      <th>feat_87</th>\n",
       "      <th>feat_88</th>\n",
       "      <th>feat_89</th>\n",
       "      <th>feat_90</th>\n",
       "      <th>feat_91</th>\n",
       "      <th>feat_92</th>\n",
       "      <th>feat_93</th>\n",
       "      <th>target</th>\n",
       "    </tr>\n",
       "  </thead>\n",
       "  <tbody>\n",
       "    <tr>\n",
       "      <th>0</th>\n",
       "      <td>1</td>\n",
       "      <td>1</td>\n",
       "      <td>0</td>\n",
       "      <td>0</td>\n",
       "      <td>0</td>\n",
       "      <td>0</td>\n",
       "      <td>0</td>\n",
       "      <td>0</td>\n",
       "      <td>0</td>\n",
       "      <td>0</td>\n",
       "      <td>...</td>\n",
       "      <td>1</td>\n",
       "      <td>0</td>\n",
       "      <td>0</td>\n",
       "      <td>0</td>\n",
       "      <td>0</td>\n",
       "      <td>0</td>\n",
       "      <td>0</td>\n",
       "      <td>0</td>\n",
       "      <td>0</td>\n",
       "      <td>Class_1</td>\n",
       "    </tr>\n",
       "    <tr>\n",
       "      <th>1</th>\n",
       "      <td>2</td>\n",
       "      <td>0</td>\n",
       "      <td>0</td>\n",
       "      <td>0</td>\n",
       "      <td>0</td>\n",
       "      <td>0</td>\n",
       "      <td>0</td>\n",
       "      <td>0</td>\n",
       "      <td>1</td>\n",
       "      <td>0</td>\n",
       "      <td>...</td>\n",
       "      <td>0</td>\n",
       "      <td>0</td>\n",
       "      <td>0</td>\n",
       "      <td>0</td>\n",
       "      <td>0</td>\n",
       "      <td>0</td>\n",
       "      <td>0</td>\n",
       "      <td>0</td>\n",
       "      <td>0</td>\n",
       "      <td>Class_1</td>\n",
       "    </tr>\n",
       "    <tr>\n",
       "      <th>2</th>\n",
       "      <td>3</td>\n",
       "      <td>0</td>\n",
       "      <td>0</td>\n",
       "      <td>0</td>\n",
       "      <td>0</td>\n",
       "      <td>0</td>\n",
       "      <td>0</td>\n",
       "      <td>0</td>\n",
       "      <td>1</td>\n",
       "      <td>0</td>\n",
       "      <td>...</td>\n",
       "      <td>0</td>\n",
       "      <td>0</td>\n",
       "      <td>0</td>\n",
       "      <td>0</td>\n",
       "      <td>0</td>\n",
       "      <td>0</td>\n",
       "      <td>0</td>\n",
       "      <td>0</td>\n",
       "      <td>0</td>\n",
       "      <td>Class_1</td>\n",
       "    </tr>\n",
       "    <tr>\n",
       "      <th>3</th>\n",
       "      <td>4</td>\n",
       "      <td>1</td>\n",
       "      <td>0</td>\n",
       "      <td>0</td>\n",
       "      <td>1</td>\n",
       "      <td>6</td>\n",
       "      <td>1</td>\n",
       "      <td>5</td>\n",
       "      <td>0</td>\n",
       "      <td>0</td>\n",
       "      <td>...</td>\n",
       "      <td>0</td>\n",
       "      <td>1</td>\n",
       "      <td>2</td>\n",
       "      <td>0</td>\n",
       "      <td>0</td>\n",
       "      <td>0</td>\n",
       "      <td>0</td>\n",
       "      <td>0</td>\n",
       "      <td>0</td>\n",
       "      <td>Class_1</td>\n",
       "    </tr>\n",
       "    <tr>\n",
       "      <th>4</th>\n",
       "      <td>5</td>\n",
       "      <td>0</td>\n",
       "      <td>0</td>\n",
       "      <td>0</td>\n",
       "      <td>0</td>\n",
       "      <td>0</td>\n",
       "      <td>0</td>\n",
       "      <td>0</td>\n",
       "      <td>0</td>\n",
       "      <td>0</td>\n",
       "      <td>...</td>\n",
       "      <td>1</td>\n",
       "      <td>0</td>\n",
       "      <td>0</td>\n",
       "      <td>0</td>\n",
       "      <td>0</td>\n",
       "      <td>1</td>\n",
       "      <td>0</td>\n",
       "      <td>0</td>\n",
       "      <td>0</td>\n",
       "      <td>Class_1</td>\n",
       "    </tr>\n",
       "  </tbody>\n",
       "</table>\n",
       "<p>5 rows × 95 columns</p>\n",
       "</div>"
      ],
      "text/plain": [
       "   id  feat_1  feat_2  feat_3  feat_4  feat_5  feat_6  feat_7  feat_8  feat_9  \\\n",
       "0   1       1       0       0       0       0       0       0       0       0   \n",
       "1   2       0       0       0       0       0       0       0       1       0   \n",
       "2   3       0       0       0       0       0       0       0       1       0   \n",
       "3   4       1       0       0       1       6       1       5       0       0   \n",
       "4   5       0       0       0       0       0       0       0       0       0   \n",
       "\n",
       "    ...     feat_85  feat_86  feat_87  feat_88  feat_89  feat_90  feat_91  \\\n",
       "0   ...           1        0        0        0        0        0        0   \n",
       "1   ...           0        0        0        0        0        0        0   \n",
       "2   ...           0        0        0        0        0        0        0   \n",
       "3   ...           0        1        2        0        0        0        0   \n",
       "4   ...           1        0        0        0        0        1        0   \n",
       "\n",
       "   feat_92  feat_93   target  \n",
       "0        0        0  Class_1  \n",
       "1        0        0  Class_1  \n",
       "2        0        0  Class_1  \n",
       "3        0        0  Class_1  \n",
       "4        0        0  Class_1  \n",
       "\n",
       "[5 rows x 95 columns]"
      ]
     },
     "execution_count": 3,
     "metadata": {},
     "output_type": "execute_result"
    }
   ],
   "source": [
    "# 读取数据\n",
    "# path to where the data lies\n",
    "dpath = './data/'\n",
    "train = pd.read_csv(dpath +\"Otto_train.csv\")\n",
    "train.head()"
   ]
  },
  {
   "cell_type": "code",
   "execution_count": 4,
   "metadata": {
    "scrolled": false
   },
   "outputs": [
    {
     "name": "stdout",
     "output_type": "stream",
     "text": [
      "<class 'pandas.core.frame.DataFrame'>\n",
      "RangeIndex: 61878 entries, 0 to 61877\n",
      "Data columns (total 95 columns):\n",
      "id         61878 non-null int64\n",
      "feat_1     61878 non-null int64\n",
      "feat_2     61878 non-null int64\n",
      "feat_3     61878 non-null int64\n",
      "feat_4     61878 non-null int64\n",
      "feat_5     61878 non-null int64\n",
      "feat_6     61878 non-null int64\n",
      "feat_7     61878 non-null int64\n",
      "feat_8     61878 non-null int64\n",
      "feat_9     61878 non-null int64\n",
      "feat_10    61878 non-null int64\n",
      "feat_11    61878 non-null int64\n",
      "feat_12    61878 non-null int64\n",
      "feat_13    61878 non-null int64\n",
      "feat_14    61878 non-null int64\n",
      "feat_15    61878 non-null int64\n",
      "feat_16    61878 non-null int64\n",
      "feat_17    61878 non-null int64\n",
      "feat_18    61878 non-null int64\n",
      "feat_19    61878 non-null int64\n",
      "feat_20    61878 non-null int64\n",
      "feat_21    61878 non-null int64\n",
      "feat_22    61878 non-null int64\n",
      "feat_23    61878 non-null int64\n",
      "feat_24    61878 non-null int64\n",
      "feat_25    61878 non-null int64\n",
      "feat_26    61878 non-null int64\n",
      "feat_27    61878 non-null int64\n",
      "feat_28    61878 non-null int64\n",
      "feat_29    61878 non-null int64\n",
      "feat_30    61878 non-null int64\n",
      "feat_31    61878 non-null int64\n",
      "feat_32    61878 non-null int64\n",
      "feat_33    61878 non-null int64\n",
      "feat_34    61878 non-null int64\n",
      "feat_35    61878 non-null int64\n",
      "feat_36    61878 non-null int64\n",
      "feat_37    61878 non-null int64\n",
      "feat_38    61878 non-null int64\n",
      "feat_39    61878 non-null int64\n",
      "feat_40    61878 non-null int64\n",
      "feat_41    61878 non-null int64\n",
      "feat_42    61878 non-null int64\n",
      "feat_43    61878 non-null int64\n",
      "feat_44    61878 non-null int64\n",
      "feat_45    61878 non-null int64\n",
      "feat_46    61878 non-null int64\n",
      "feat_47    61878 non-null int64\n",
      "feat_48    61878 non-null int64\n",
      "feat_49    61878 non-null int64\n",
      "feat_50    61878 non-null int64\n",
      "feat_51    61878 non-null int64\n",
      "feat_52    61878 non-null int64\n",
      "feat_53    61878 non-null int64\n",
      "feat_54    61878 non-null int64\n",
      "feat_55    61878 non-null int64\n",
      "feat_56    61878 non-null int64\n",
      "feat_57    61878 non-null int64\n",
      "feat_58    61878 non-null int64\n",
      "feat_59    61878 non-null int64\n",
      "feat_60    61878 non-null int64\n",
      "feat_61    61878 non-null int64\n",
      "feat_62    61878 non-null int64\n",
      "feat_63    61878 non-null int64\n",
      "feat_64    61878 non-null int64\n",
      "feat_65    61878 non-null int64\n",
      "feat_66    61878 non-null int64\n",
      "feat_67    61878 non-null int64\n",
      "feat_68    61878 non-null int64\n",
      "feat_69    61878 non-null int64\n",
      "feat_70    61878 non-null int64\n",
      "feat_71    61878 non-null int64\n",
      "feat_72    61878 non-null int64\n",
      "feat_73    61878 non-null int64\n",
      "feat_74    61878 non-null int64\n",
      "feat_75    61878 non-null int64\n",
      "feat_76    61878 non-null int64\n",
      "feat_77    61878 non-null int64\n",
      "feat_78    61878 non-null int64\n",
      "feat_79    61878 non-null int64\n",
      "feat_80    61878 non-null int64\n",
      "feat_81    61878 non-null int64\n",
      "feat_82    61878 non-null int64\n",
      "feat_83    61878 non-null int64\n",
      "feat_84    61878 non-null int64\n",
      "feat_85    61878 non-null int64\n",
      "feat_86    61878 non-null int64\n",
      "feat_87    61878 non-null int64\n",
      "feat_88    61878 non-null int64\n",
      "feat_89    61878 non-null int64\n",
      "feat_90    61878 non-null int64\n",
      "feat_91    61878 non-null int64\n",
      "feat_92    61878 non-null int64\n",
      "feat_93    61878 non-null int64\n",
      "target     61878 non-null object\n",
      "dtypes: int64(94), object(1)\n",
      "memory usage: 44.8+ MB\n"
     ]
    }
   ],
   "source": [
    "train.info()"
   ]
  },
  {
   "cell_type": "code",
   "execution_count": 5,
   "metadata": {
    "scrolled": true
   },
   "outputs": [
    {
     "data": {
      "text/html": [
       "<div>\n",
       "<style>\n",
       "    .dataframe thead tr:only-child th {\n",
       "        text-align: right;\n",
       "    }\n",
       "\n",
       "    .dataframe thead th {\n",
       "        text-align: left;\n",
       "    }\n",
       "\n",
       "    .dataframe tbody tr th {\n",
       "        vertical-align: top;\n",
       "    }\n",
       "</style>\n",
       "<table border=\"1\" class=\"dataframe\">\n",
       "  <thead>\n",
       "    <tr style=\"text-align: right;\">\n",
       "      <th></th>\n",
       "      <th>id</th>\n",
       "      <th>feat_1</th>\n",
       "      <th>feat_2</th>\n",
       "      <th>feat_3</th>\n",
       "      <th>feat_4</th>\n",
       "      <th>feat_5</th>\n",
       "      <th>feat_6</th>\n",
       "      <th>feat_7</th>\n",
       "      <th>feat_8</th>\n",
       "      <th>feat_9</th>\n",
       "      <th>...</th>\n",
       "      <th>feat_84</th>\n",
       "      <th>feat_85</th>\n",
       "      <th>feat_86</th>\n",
       "      <th>feat_87</th>\n",
       "      <th>feat_88</th>\n",
       "      <th>feat_89</th>\n",
       "      <th>feat_90</th>\n",
       "      <th>feat_91</th>\n",
       "      <th>feat_92</th>\n",
       "      <th>feat_93</th>\n",
       "    </tr>\n",
       "  </thead>\n",
       "  <tbody>\n",
       "    <tr>\n",
       "      <th>count</th>\n",
       "      <td>61878.000000</td>\n",
       "      <td>61878.00000</td>\n",
       "      <td>61878.000000</td>\n",
       "      <td>61878.000000</td>\n",
       "      <td>61878.000000</td>\n",
       "      <td>61878.000000</td>\n",
       "      <td>61878.000000</td>\n",
       "      <td>61878.000000</td>\n",
       "      <td>61878.000000</td>\n",
       "      <td>61878.000000</td>\n",
       "      <td>...</td>\n",
       "      <td>61878.000000</td>\n",
       "      <td>61878.000000</td>\n",
       "      <td>61878.000000</td>\n",
       "      <td>61878.000000</td>\n",
       "      <td>61878.000000</td>\n",
       "      <td>61878.000000</td>\n",
       "      <td>61878.000000</td>\n",
       "      <td>61878.000000</td>\n",
       "      <td>61878.000000</td>\n",
       "      <td>61878.000000</td>\n",
       "    </tr>\n",
       "    <tr>\n",
       "      <th>mean</th>\n",
       "      <td>30939.500000</td>\n",
       "      <td>0.38668</td>\n",
       "      <td>0.263066</td>\n",
       "      <td>0.901467</td>\n",
       "      <td>0.779081</td>\n",
       "      <td>0.071043</td>\n",
       "      <td>0.025696</td>\n",
       "      <td>0.193704</td>\n",
       "      <td>0.662433</td>\n",
       "      <td>1.011296</td>\n",
       "      <td>...</td>\n",
       "      <td>0.070752</td>\n",
       "      <td>0.532306</td>\n",
       "      <td>1.128576</td>\n",
       "      <td>0.393549</td>\n",
       "      <td>0.874915</td>\n",
       "      <td>0.457772</td>\n",
       "      <td>0.812421</td>\n",
       "      <td>0.264941</td>\n",
       "      <td>0.380119</td>\n",
       "      <td>0.126135</td>\n",
       "    </tr>\n",
       "    <tr>\n",
       "      <th>std</th>\n",
       "      <td>17862.784315</td>\n",
       "      <td>1.52533</td>\n",
       "      <td>1.252073</td>\n",
       "      <td>2.934818</td>\n",
       "      <td>2.788005</td>\n",
       "      <td>0.438902</td>\n",
       "      <td>0.215333</td>\n",
       "      <td>1.030102</td>\n",
       "      <td>2.255770</td>\n",
       "      <td>3.474822</td>\n",
       "      <td>...</td>\n",
       "      <td>1.151460</td>\n",
       "      <td>1.900438</td>\n",
       "      <td>2.681554</td>\n",
       "      <td>1.575455</td>\n",
       "      <td>2.115466</td>\n",
       "      <td>1.527385</td>\n",
       "      <td>4.597804</td>\n",
       "      <td>2.045646</td>\n",
       "      <td>0.982385</td>\n",
       "      <td>1.201720</td>\n",
       "    </tr>\n",
       "    <tr>\n",
       "      <th>min</th>\n",
       "      <td>1.000000</td>\n",
       "      <td>0.00000</td>\n",
       "      <td>0.000000</td>\n",
       "      <td>0.000000</td>\n",
       "      <td>0.000000</td>\n",
       "      <td>0.000000</td>\n",
       "      <td>0.000000</td>\n",
       "      <td>0.000000</td>\n",
       "      <td>0.000000</td>\n",
       "      <td>0.000000</td>\n",
       "      <td>...</td>\n",
       "      <td>0.000000</td>\n",
       "      <td>0.000000</td>\n",
       "      <td>0.000000</td>\n",
       "      <td>0.000000</td>\n",
       "      <td>0.000000</td>\n",
       "      <td>0.000000</td>\n",
       "      <td>0.000000</td>\n",
       "      <td>0.000000</td>\n",
       "      <td>0.000000</td>\n",
       "      <td>0.000000</td>\n",
       "    </tr>\n",
       "    <tr>\n",
       "      <th>25%</th>\n",
       "      <td>15470.250000</td>\n",
       "      <td>0.00000</td>\n",
       "      <td>0.000000</td>\n",
       "      <td>0.000000</td>\n",
       "      <td>0.000000</td>\n",
       "      <td>0.000000</td>\n",
       "      <td>0.000000</td>\n",
       "      <td>0.000000</td>\n",
       "      <td>0.000000</td>\n",
       "      <td>0.000000</td>\n",
       "      <td>...</td>\n",
       "      <td>0.000000</td>\n",
       "      <td>0.000000</td>\n",
       "      <td>0.000000</td>\n",
       "      <td>0.000000</td>\n",
       "      <td>0.000000</td>\n",
       "      <td>0.000000</td>\n",
       "      <td>0.000000</td>\n",
       "      <td>0.000000</td>\n",
       "      <td>0.000000</td>\n",
       "      <td>0.000000</td>\n",
       "    </tr>\n",
       "    <tr>\n",
       "      <th>50%</th>\n",
       "      <td>30939.500000</td>\n",
       "      <td>0.00000</td>\n",
       "      <td>0.000000</td>\n",
       "      <td>0.000000</td>\n",
       "      <td>0.000000</td>\n",
       "      <td>0.000000</td>\n",
       "      <td>0.000000</td>\n",
       "      <td>0.000000</td>\n",
       "      <td>0.000000</td>\n",
       "      <td>0.000000</td>\n",
       "      <td>...</td>\n",
       "      <td>0.000000</td>\n",
       "      <td>0.000000</td>\n",
       "      <td>0.000000</td>\n",
       "      <td>0.000000</td>\n",
       "      <td>0.000000</td>\n",
       "      <td>0.000000</td>\n",
       "      <td>0.000000</td>\n",
       "      <td>0.000000</td>\n",
       "      <td>0.000000</td>\n",
       "      <td>0.000000</td>\n",
       "    </tr>\n",
       "    <tr>\n",
       "      <th>75%</th>\n",
       "      <td>46408.750000</td>\n",
       "      <td>0.00000</td>\n",
       "      <td>0.000000</td>\n",
       "      <td>0.000000</td>\n",
       "      <td>0.000000</td>\n",
       "      <td>0.000000</td>\n",
       "      <td>0.000000</td>\n",
       "      <td>0.000000</td>\n",
       "      <td>1.000000</td>\n",
       "      <td>0.000000</td>\n",
       "      <td>...</td>\n",
       "      <td>0.000000</td>\n",
       "      <td>0.000000</td>\n",
       "      <td>1.000000</td>\n",
       "      <td>0.000000</td>\n",
       "      <td>1.000000</td>\n",
       "      <td>0.000000</td>\n",
       "      <td>0.000000</td>\n",
       "      <td>0.000000</td>\n",
       "      <td>0.000000</td>\n",
       "      <td>0.000000</td>\n",
       "    </tr>\n",
       "    <tr>\n",
       "      <th>max</th>\n",
       "      <td>61878.000000</td>\n",
       "      <td>61.00000</td>\n",
       "      <td>51.000000</td>\n",
       "      <td>64.000000</td>\n",
       "      <td>70.000000</td>\n",
       "      <td>19.000000</td>\n",
       "      <td>10.000000</td>\n",
       "      <td>38.000000</td>\n",
       "      <td>76.000000</td>\n",
       "      <td>43.000000</td>\n",
       "      <td>...</td>\n",
       "      <td>76.000000</td>\n",
       "      <td>55.000000</td>\n",
       "      <td>65.000000</td>\n",
       "      <td>67.000000</td>\n",
       "      <td>30.000000</td>\n",
       "      <td>61.000000</td>\n",
       "      <td>130.000000</td>\n",
       "      <td>52.000000</td>\n",
       "      <td>19.000000</td>\n",
       "      <td>87.000000</td>\n",
       "    </tr>\n",
       "  </tbody>\n",
       "</table>\n",
       "<p>8 rows × 94 columns</p>\n",
       "</div>"
      ],
      "text/plain": [
       "                 id       feat_1        feat_2        feat_3        feat_4  \\\n",
       "count  61878.000000  61878.00000  61878.000000  61878.000000  61878.000000   \n",
       "mean   30939.500000      0.38668      0.263066      0.901467      0.779081   \n",
       "std    17862.784315      1.52533      1.252073      2.934818      2.788005   \n",
       "min        1.000000      0.00000      0.000000      0.000000      0.000000   \n",
       "25%    15470.250000      0.00000      0.000000      0.000000      0.000000   \n",
       "50%    30939.500000      0.00000      0.000000      0.000000      0.000000   \n",
       "75%    46408.750000      0.00000      0.000000      0.000000      0.000000   \n",
       "max    61878.000000     61.00000     51.000000     64.000000     70.000000   \n",
       "\n",
       "             feat_5        feat_6        feat_7        feat_8        feat_9  \\\n",
       "count  61878.000000  61878.000000  61878.000000  61878.000000  61878.000000   \n",
       "mean       0.071043      0.025696      0.193704      0.662433      1.011296   \n",
       "std        0.438902      0.215333      1.030102      2.255770      3.474822   \n",
       "min        0.000000      0.000000      0.000000      0.000000      0.000000   \n",
       "25%        0.000000      0.000000      0.000000      0.000000      0.000000   \n",
       "50%        0.000000      0.000000      0.000000      0.000000      0.000000   \n",
       "75%        0.000000      0.000000      0.000000      1.000000      0.000000   \n",
       "max       19.000000     10.000000     38.000000     76.000000     43.000000   \n",
       "\n",
       "           ...            feat_84       feat_85       feat_86       feat_87  \\\n",
       "count      ...       61878.000000  61878.000000  61878.000000  61878.000000   \n",
       "mean       ...           0.070752      0.532306      1.128576      0.393549   \n",
       "std        ...           1.151460      1.900438      2.681554      1.575455   \n",
       "min        ...           0.000000      0.000000      0.000000      0.000000   \n",
       "25%        ...           0.000000      0.000000      0.000000      0.000000   \n",
       "50%        ...           0.000000      0.000000      0.000000      0.000000   \n",
       "75%        ...           0.000000      0.000000      1.000000      0.000000   \n",
       "max        ...          76.000000     55.000000     65.000000     67.000000   \n",
       "\n",
       "            feat_88       feat_89       feat_90       feat_91       feat_92  \\\n",
       "count  61878.000000  61878.000000  61878.000000  61878.000000  61878.000000   \n",
       "mean       0.874915      0.457772      0.812421      0.264941      0.380119   \n",
       "std        2.115466      1.527385      4.597804      2.045646      0.982385   \n",
       "min        0.000000      0.000000      0.000000      0.000000      0.000000   \n",
       "25%        0.000000      0.000000      0.000000      0.000000      0.000000   \n",
       "50%        0.000000      0.000000      0.000000      0.000000      0.000000   \n",
       "75%        1.000000      0.000000      0.000000      0.000000      0.000000   \n",
       "max       30.000000     61.000000    130.000000     52.000000     19.000000   \n",
       "\n",
       "            feat_93  \n",
       "count  61878.000000  \n",
       "mean       0.126135  \n",
       "std        1.201720  \n",
       "min        0.000000  \n",
       "25%        0.000000  \n",
       "50%        0.000000  \n",
       "75%        0.000000  \n",
       "max       87.000000  \n",
       "\n",
       "[8 rows x 94 columns]"
      ]
     },
     "execution_count": 5,
     "metadata": {},
     "output_type": "execute_result"
    }
   ],
   "source": [
    "## 各属性的统计特性\n",
    "train.describe()"
   ]
  },
  {
   "cell_type": "code",
   "execution_count": 6,
   "metadata": {},
   "outputs": [
    {
     "data": {
      "image/png": "[encoded data removed]",
      "text/plain": [
       "<matplotlib.figure.Figure at 0x54aaeb8>"
      ]
     },
     "metadata": {},
     "output_type": "display_data"
    }
   ],
   "source": [
    "# Target 分布，看看各类样本分布是否均衡\n",
    "sns.countplot(train.target);\n",
    "pyplot.xlabel('target');\n",
    "pyplot.ylabel('Number of occurrences');"
   ]
  },
  {
   "cell_type": "markdown",
   "metadata": {},
   "source": [
    "各类样本不均衡。交叉验证对分类任务缺省的是采用StratifiedKFold，在每折采样时根据各类样本按比例采样"
   ]
  },
  {
   "cell_type": "markdown",
   "metadata": {},
   "source": [
    "## 特征编码"
   ]
  },
  {
   "cell_type": "code",
   "execution_count": 7,
   "metadata": {
    "collapsed": true
   },
   "outputs": [],
   "source": [
    "# 将类别字符串变成数字\n",
    "# drop ids and get labels\n",
    "y_train = train['target']   #形式为Class_x\n",
    "y_train = y_train.map(lambda s: s[6:])\n",
    "y_train = y_train.map(lambda s: int(s)-1)\n",
    "\n",
    "train = train.drop([\"id\", \"target\"], axis=1)\n",
    "X_train = np.array(train)\n",
    "\n",
    "#如果计算资源有限，也可只取少量样本，如取前1000个样本\n",
    "#（分类中其实还需要确保取出来的这部分样本各类样本的比例和总体一致）\n",
    "#n_trains = 1000\n",
    "#y_train = train.target.values[:n_trains]\n",
    "\n",
    "#或者考虑用train_test_split而不是交叉验证来验证模型性能"
   ]
  },
  {
   "cell_type": "markdown",
   "metadata": {},
   "source": [
    "## 数据预处理"
   ]
  },
  {
   "cell_type": "code",
   "execution_count": 8,
   "metadata": {},
   "outputs": [
    {
     "name": "stderr",
     "output_type": "stream",
     "text": [
      "C:\\ProgramData\\Anaconda3\\lib\\site-packages\\sklearn\\utils\\validation.py:475: DataConversionWarning: Data with input dtype int64 was converted to float64 by StandardScaler.\n",
      "  warnings.warn(msg, DataConversionWarning)\n"
     ]
    }
   ],
   "source": [
    "# 数据标准化\n",
    "from sklearn.preprocessing import StandardScaler\n",
    "\n",
    "# 初始化特征的标准化器\n",
    "ss_X = StandardScaler()\n",
    "\n",
    "# 分别对训练和测试数据的特征进行标准化处理\n",
    "X_train = ss_X.fit_transform(X_train)\n",
    "#X_test = ss_X.transform(X_test)\n"
   ]
  },
  {
   "cell_type": "markdown",
   "metadata": {},
   "source": [
    "## 模型训练"
   ]
  },
  {
   "cell_type": "markdown",
   "metadata": {},
   "source": [
    "### default Logistic Regression"
   ]
  },
  {
   "cell_type": "code",
   "execution_count": 9,
   "metadata": {
    "collapsed": true
   },
   "outputs": [],
   "source": [
    "from sklearn.linear_model import LogisticRegression\n",
    "lr= LogisticRegression()"
   ]
  },
  {
   "cell_type": "code",
   "execution_count": 10,
   "metadata": {
    "scrolled": false
   },
   "outputs": [
    {
     "name": "stderr",
     "output_type": "stream",
     "text": [
      "C:\\ProgramData\\Anaconda3\\lib\\site-packages\\sklearn\\cross_validation.py:41: DeprecationWarning: This module was deprecated in version 0.18 in favor of the model_selection module into which all the refactored classes and functions are moved. Also note that the interface of the new CV iterators are different from that of this module. This module will be removed in 0.20.\n",
      "  \"This module will be removed in 0.20.\", DeprecationWarning)\n"
     ]
    }
   ],
   "source": [
    "# 交叉验证用于评估模型性能和进行参数调优（模型选择）\n",
    "#分类任务中交叉验证缺省是采用StratifiedKFold\n",
    "from sklearn.cross_validation import cross_val_score\n",
    "loss = cross_val_score(lr, X_train, y_train, cv=5, scoring='neg_log_loss')\n"
   ]
  },
  {
   "cell_type": "code",
   "execution_count": 11,
   "metadata": {},
   "outputs": [
    {
     "name": "stdout",
     "output_type": "stream",
     "text": [
      "logloss of each fold is:  [0.67686644 0.68182093 0.66838122 0.66628669 0.6743933 ]\n",
      "cv logloss is: 0.6735497161501911\n"
     ]
    }
   ],
   "source": [
    "print ('logloss of each fold is: ',-loss)\n",
    "print ('cv logloss is:', -loss.mean())"
   ]
  },
  {
   "cell_type": "markdown",
   "metadata": {},
   "source": [
    "### 正则化的 Logistic Regression及参数调优"
   ]
  },
  {
   "cell_type": "markdown",
   "metadata": {},
   "source": [
    "logistic回归的需要调整超参数有：C（正则系数，一般在log域（取log后的值）均匀设置候选参数）和正则函数penalty（L2/L1） \n",
    "目标函数为：J = sum(logloss(f(xi), yi)) + C* penalty \n",
    "\n",
    "在sklearn框架下，不同学习器的参数调整步骤相同：\n",
    "设置候选参数集合\n",
    "调用GridSearchCV\n",
    "调用fit"
   ]
  },
  {
   "cell_type": "code",
   "execution_count": 12,
   "metadata": {
    "scrolled": false
   },
   "outputs": [
    {
     "data": {
      "text/plain": [
       "GridSearchCV(cv=5, error_score='raise',\n",
       "       estimator=LogisticRegression(C=1.0, class_weight=None, dual=False, fit_intercept=True,\n",
       "          intercept_scaling=1, max_iter=100, multi_class='ovr', n_jobs=1,\n",
       "          penalty='l2', random_state=None, solver='liblinear', tol=0.0001,\n",
       "          verbose=0, warm_start=False),\n",
       "       fit_params=None, iid=True, n_jobs=1,\n",
       "       param_grid={'penalty': ['l1', 'l2'], 'C': [0.001, 0.01, 0.1, 1, 10, 100, 1000]},\n",
       "       pre_dispatch='2*n_jobs', refit=True, return_train_score='warn',\n",
       "       scoring='neg_log_loss', verbose=0)"
      ]
     },
     "execution_count": 12,
     "metadata": {},
     "output_type": "execute_result"
    }
   ],
   "source": [
    "from sklearn.model_selection import GridSearchCV\n",
    "from sklearn.linear_model import LogisticRegression\n",
    "\n",
    "#需要调优的参数\n",
    "# 请尝试将L1正则和L2正则分开，并配合合适的优化求解算法（slover）\n",
    "#tuned_parameters = {'penalty':['l1','l2'],\n",
    "#                   'C': [0.001, 0.01, 0.1, 1, 10, 100, 1000]\n",
    "#                   }\n",
    "penaltys = ['l1','l2']\n",
    "Cs = [0.001, 0.01, 0.1, 1, 10, 100, 1000]\n",
    "tuned_parameters = dict(penalty = penaltys, C = Cs)\n",
    "\n",
    "lr_penalty= LogisticRegression()\n",
    "grid= GridSearchCV(lr_penalty, tuned_parameters,cv=5, scoring='neg_log_loss')\n",
    "grid.fit(X_train,y_train)"
   ]
  },
  {
   "cell_type": "code",
   "execution_count": 13,
   "metadata": {
    "scrolled": false
   },
   "outputs": [
    {
     "name": "stderr",
     "output_type": "stream",
     "text": [
      "C:\\ProgramData\\Anaconda3\\lib\\site-packages\\sklearn\\utils\\deprecation.py:122: FutureWarning: You are accessing a training score ('mean_train_score'), which will not be available by default any more in 0.21. If you need training scores, please set return_train_score=True\n",
      "  warnings.warn(*warn_args, **warn_kwargs)\n",
      "C:\\ProgramData\\Anaconda3\\lib\\site-packages\\sklearn\\utils\\deprecation.py:122: FutureWarning: You are accessing a training score ('split0_train_score'), which will not be available by default any more in 0.21. If you need training scores, please set return_train_score=True\n",
      "  warnings.warn(*warn_args, **warn_kwargs)\n",
      "C:\\ProgramData\\Anaconda3\\lib\\site-packages\\sklearn\\utils\\deprecation.py:122: FutureWarning: You are accessing a training score ('split1_train_score'), which will not be available by default any more in 0.21. If you need training scores, please set return_train_score=True\n",
      "  warnings.warn(*warn_args, **warn_kwargs)\n",
      "C:\\ProgramData\\Anaconda3\\lib\\site-packages\\sklearn\\utils\\deprecation.py:122: FutureWarning: You are accessing a training score ('split2_train_score'), which will not be available by default any more in 0.21. If you need training scores, please set return_train_score=True\n",
      "  warnings.warn(*warn_args, **warn_kwargs)\n",
      "C:\\ProgramData\\Anaconda3\\lib\\site-packages\\sklearn\\utils\\deprecation.py:122: FutureWarning: You are accessing a training score ('split3_train_score'), which will not be available by default any more in 0.21. If you need training scores, please set return_train_score=True\n",
      "  warnings.warn(*warn_args, **warn_kwargs)\n",
      "C:\\ProgramData\\Anaconda3\\lib\\site-packages\\sklearn\\utils\\deprecation.py:122: FutureWarning: You are accessing a training score ('split4_train_score'), which will not be available by default any more in 0.21. If you need training scores, please set return_train_score=True\n",
      "  warnings.warn(*warn_args, **warn_kwargs)\n",
      "C:\\ProgramData\\Anaconda3\\lib\\site-packages\\sklearn\\utils\\deprecation.py:122: FutureWarning: You are accessing a training score ('std_train_score'), which will not be available by default any more in 0.21. If you need training scores, please set return_train_score=True\n",
      "  warnings.warn(*warn_args, **warn_kwargs)\n"
     ]
    },
    {
     "data": {
      "text/plain": [
       "{'mean_fit_time': array([ 2.27753024,  5.93293934,  5.64372277, 10.31258988, 17.45859861,\n",
       "        16.72655673, 31.2571878 , 22.02605987, 40.4829155 , 24.37179403,\n",
       "        41.86839471, 27.59777846, 41.36236567, 25.15343871]),\n",
       " 'mean_score_time': array([0.01440091, 0.01300082, 0.0152009 , 0.01480088, 0.01380076,\n",
       "        0.01400084, 0.01500082, 0.0152009 , 0.01500082, 0.01380076,\n",
       "        0.01460075, 0.01560087, 0.0152009 , 0.01400084]),\n",
       " 'mean_test_score': array([-1.17706041, -1.02651724, -0.77504891, -0.76020957, -0.68195235,\n",
       "        -0.68690551, -0.67237641, -0.67354989, -0.67188359, -0.67184432,\n",
       "        -0.67189835, -0.67183317, -0.67190753, -0.67187322]),\n",
       " 'mean_train_score': array([-1.17597671, -1.02389825, -0.77093077, -0.75433198, -0.67254938,\n",
       "        -0.67728069, -0.66042438, -0.66191607, -0.6592297 , -0.65940468,\n",
       "        -0.65912601, -0.65909351, -0.65911843, -0.65906414]),\n",
       " 'param_C': masked_array(data=[0.001, 0.001, 0.01, 0.01, 0.1, 0.1, 1, 1, 10, 10, 100,\n",
       "                    100, 1000, 1000],\n",
       "              mask=[False, False, False, False, False, False, False, False,\n",
       "                    False, False, False, False, False, False],\n",
       "        fill_value='?',\n",
       "             dtype=object),\n",
       " 'param_penalty': masked_array(data=['l1', 'l2', 'l1', 'l2', 'l1', 'l2', 'l1', 'l2', 'l1',\n",
       "                    'l2', 'l1', 'l2', 'l1', 'l2'],\n",
       "              mask=[False, False, False, False, False, False, False, False,\n",
       "                    False, False, False, False, False, False],\n",
       "        fill_value='?',\n",
       "             dtype=object),\n",
       " 'params': [{'C': 0.001, 'penalty': 'l1'},\n",
       "  {'C': 0.001, 'penalty': 'l2'},\n",
       "  {'C': 0.01, 'penalty': 'l1'},\n",
       "  {'C': 0.01, 'penalty': 'l2'},\n",
       "  {'C': 0.1, 'penalty': 'l1'},\n",
       "  {'C': 0.1, 'penalty': 'l2'},\n",
       "  {'C': 1, 'penalty': 'l1'},\n",
       "  {'C': 1, 'penalty': 'l2'},\n",
       "  {'C': 10, 'penalty': 'l1'},\n",
       "  {'C': 10, 'penalty': 'l2'},\n",
       "  {'C': 100, 'penalty': 'l1'},\n",
       "  {'C': 100, 'penalty': 'l2'},\n",
       "  {'C': 1000, 'penalty': 'l1'},\n",
       "  {'C': 1000, 'penalty': 'l2'}],\n",
       " 'rank_test_score': array([14, 13, 12, 11,  9, 10,  7,  8,  4,  2,  5,  1,  6,  3]),\n",
       " 'split0_test_score': array([-1.1801691 , -1.02714364, -0.77838904, -0.76291001, -0.68500472,\n",
       "        -0.69036097, -0.67589539, -0.67686644, -0.67555716, -0.67545194,\n",
       "        -0.67555386, -0.67548784, -0.67555149, -0.67551244]),\n",
       " 'split0_train_score': array([-1.17530772, -1.02375019, -0.77031546, -0.75376261, -0.6717873 ,\n",
       "        -0.67655336, -0.6597251 , -0.66119247, -0.65854352, -0.65871674,\n",
       "        -0.65844737, -0.65841174, -0.65843429, -0.65838281]),\n",
       " 'split1_test_score': array([-1.18110346, -1.03204185, -0.78307841, -0.76713379, -0.6895288 ,\n",
       "        -0.6943296 , -0.68054866, -0.68182093, -0.68034561, -0.68026919,\n",
       "        -0.68042798, -0.68035094, -0.68043754, -0.68041516]),\n",
       " 'split1_train_score': array([-1.17336285, -1.02168815, -0.76812681, -0.7515705 , -0.66956878,\n",
       "        -0.67431592, -0.65734278, -0.65879158, -0.65613804, -0.65629471,\n",
       "        -0.65602663, -0.6559914 , -0.65601518, -0.65596083]),\n",
       " 'split2_test_score': array([-1.17465174, -1.02087093, -0.7688914 , -0.75377286, -0.67630103,\n",
       "        -0.68101949, -0.66728064, -0.66838122, -0.6668757 , -0.66685597,\n",
       "        -0.66685256, -0.66680775, -0.66685152, -0.66680983]),\n",
       " 'split2_train_score': array([-1.17710062, -1.02534114, -0.77255145, -0.75591744, -0.67373826,\n",
       "        -0.6785515 , -0.66149418, -0.66304618, -0.66029936, -0.66048001,\n",
       "        -0.66020028, -0.66016491, -0.66019376, -0.66013654]),\n",
       " 'split3_test_score': array([-1.17393673, -1.02329239, -0.7692088 , -0.75495946, -0.67557856,\n",
       "        -0.68072181, -0.66529067, -0.66628669, -0.66462734, -0.66442351,\n",
       "        -0.66471024, -0.66459398, -0.6647512 , -0.66473165]),\n",
       " 'split3_train_score': array([-1.17744902, -1.02519383, -0.7729187 , -0.75607063, -0.67454502,\n",
       "        -0.67927736, -0.66250408, -0.66405052, -0.66129774, -0.66149458,\n",
       "        -0.66118968, -0.6611647 , -0.66118733, -0.66113495]),\n",
       " 'split4_test_score': array([-1.17543952, -1.02923794, -0.77567596, -0.76227154, -0.68334809,\n",
       "        -0.68809502, -0.67286565, -0.6743933 , -0.67201091, -0.67221987,\n",
       "        -0.67194583, -0.67192411, -0.67194465, -0.67189573]),\n",
       " 'split4_train_score': array([-1.17666333, -1.02351792, -0.77074144, -0.7543387 , -0.67310757,\n",
       "        -0.67770533, -0.66105574, -0.6624996 , -0.65986982, -0.66003737,\n",
       "        -0.65976611, -0.65973481, -0.65976157, -0.6597056 ]),\n",
       " 'std_fit_time': array([0.07115634, 0.10829581, 0.14473769, 0.10391354, 0.24170837,\n",
       "        0.13972281, 1.28655862, 0.29022504, 1.21267659, 0.70879596,\n",
       "        1.26927775, 1.12903321, 1.09092967, 0.33085239]),\n",
       " 'std_score_time': array([1.19997661e-03, 1.16800773e-07, 2.48207377e-03, 1.60009861e-03,\n",
       "        7.48430176e-04, 1.54935807e-03, 8.94522323e-04, 3.05951103e-03,\n",
       "        2.09771572e-03, 1.16620399e-03, 1.20011966e-03, 1.35660672e-03,\n",
       "        4.00042545e-04, 1.09553983e-03]),\n",
       " 'std_test_score': array([0.00297321, 0.00401494, 0.00544162, 0.00506934, 0.00531489,\n",
       "        0.00531725, 0.00557844, 0.00564982, 0.00570723, 0.00572887,\n",
       "        0.00571422, 0.00571999, 0.00570667, 0.00570723]),\n",
       " 'std_train_score': array([0.00149547, 0.00132752, 0.00172367, 0.00164235, 0.00174197,\n",
       "        0.00173786, 0.00178065, 0.00181437, 0.00178101, 0.00179274,\n",
       "        0.00178265, 0.00178532, 0.00178597, 0.00178575])}"
      ]
     },
     "execution_count": 13,
     "metadata": {},
     "output_type": "execute_result"
    }
   ],
   "source": [
    "# view the complete results (list of named tuples)\n",
    "grid.cv_results_"
   ]
  },
  {
   "cell_type": "code",
   "execution_count": 14,
   "metadata": {
    "scrolled": true
   },
   "outputs": [
    {
     "name": "stdout",
     "output_type": "stream",
     "text": [
      "0.6718331728028712\n",
      "{'C': 100, 'penalty': 'l2'}\n"
     ]
    }
   ],
   "source": [
    "# examine the best model\n",
    "print(-grid.best_score_)\n",
    "print(grid.best_params_)"
   ]
  },
  {
   "cell_type": "markdown",
   "metadata": {},
   "source": [
    "如果最佳值在候选参数的边缘，最好再尝试更大的候选参数或更小的候选参数，直到找到拐点。\n",
    "l2, c=100"
   ]
  },
  {
   "cell_type": "code",
   "execution_count": 15,
   "metadata": {},
   "outputs": [
    {
     "name": "stderr",
     "output_type": "stream",
     "text": [
      "C:\\ProgramData\\Anaconda3\\lib\\site-packages\\sklearn\\utils\\deprecation.py:122: FutureWarning: You are accessing a training score ('mean_train_score'), which will not be available by default any more in 0.21. If you need training scores, please set return_train_score=True\n",
      "  warnings.warn(*warn_args, **warn_kwargs)\n",
      "C:\\ProgramData\\Anaconda3\\lib\\site-packages\\sklearn\\utils\\deprecation.py:122: FutureWarning: You are accessing a training score ('std_train_score'), which will not be available by default any more in 0.21. If you need training scores, please set return_train_score=True\n",
      "  warnings.warn(*warn_args, **warn_kwargs)\n"
     ]
    },
    {
     "data": {
      "image/png": "[encoded data removed]",
      "text/plain": [
       "<matplotlib.figure.Figure at 0x13036208>"
      ]
     },
     "metadata": {},
     "output_type": "display_data"
    }
   ],
   "source": [
    "#pd.DataFrame(grid.cv_results_).to_csv('LogisticGridSearchCV_Otto.csv')\n",
    "#cvresult = pd.DataFrame.from_csv('LogisticGridSearchCV_Otto.csv')\n",
    "#test_means = cv_results['mean_test_score']\n",
    "#test_stds = cv_results['std_test_score'] \n",
    "#train_means = cvresult['mean_train_score']\n",
    "#train_stds = cvresult['std_train_score'] \n",
    "\n",
    "\n",
    "# plot CV误差曲线\n",
    "test_means = grid.cv_results_[ 'mean_test_score' ]\n",
    "test_stds = grid.cv_results_[ 'std_test_score' ]\n",
    "train_means = grid.cv_results_[ 'mean_train_score' ]\n",
    "train_stds = grid.cv_results_[ 'std_train_score' ]\n",
    "\n",
    "\n",
    "# plot results\n",
    "n_Cs = len(Cs)\n",
    "number_penaltys = len(penaltys)\n",
    "test_scores = np.array(test_means).reshape(n_Cs,number_penaltys)\n",
    "train_scores = np.array(train_means).reshape(n_Cs,number_penaltys)\n",
    "test_stds = np.array(test_stds).reshape(n_Cs,number_penaltys)\n",
    "train_stds = np.array(train_stds).reshape(n_Cs,number_penaltys)\n",
    "\n",
    "x_axis = np.log10(Cs)\n",
    "for i, value in enumerate(penaltys):\n",
    "    #pyplot.plot(log(Cs), test_scores[i], label= 'penalty:'   + str(value))\n",
    "    pyplot.errorbar(x_axis, test_scores[:,i], yerr=test_stds[:,i] ,label = penaltys[i] +' Test')\n",
    "    pyplot.errorbar(x_axis, train_scores[:,i], yerr=train_stds[:,i] ,label = penaltys[i] +' Train')\n",
    "    \n",
    "pyplot.legend()\n",
    "pyplot.xlabel( 'log(C)' )                                                                                                      \n",
    "pyplot.ylabel( 'neg-logloss' )\n",
    "pyplot.savefig('LogisticGridSearchCV_C.png' )\n",
    "\n",
    "pyplot.show()"
   ]
  },
  {
   "cell_type": "markdown",
   "metadata": {},
   "source": [
    "上图给出了L1正则和L2正则下、不同正则参数C对应的模型在训练集上测试集上的正确率（score）。可以看出在训练集上C越大（正则越少）的模型性能越好；但在测试集上当C=100时性能最好（L1正则和L2正则均是）"
   ]
  },
  {
   "cell_type": "markdown",
   "metadata": {},
   "source": [
    "### 用LogisticRegressionCV实现正则化的 Logistic Regression"
   ]
  },
  {
   "cell_type": "markdown",
   "metadata": {},
   "source": [
    "### L1正则"
   ]
  },
  {
   "cell_type": "code",
   "execution_count": 16,
   "metadata": {
    "scrolled": true
   },
   "outputs": [
    {
     "data": {
      "text/plain": [
       "LogisticRegressionCV(Cs=[1, 10, 100, 1000], class_weight=None, cv=5,\n",
       "           dual=False, fit_intercept=True, intercept_scaling=1.0,\n",
       "           max_iter=100, multi_class='ovr', n_jobs=1, penalty='l1',\n",
       "           random_state=None, refit=True, scoring='neg_log_loss',\n",
       "           solver='liblinear', tol=0.0001, verbose=0)"
      ]
     },
     "execution_count": 16,
     "metadata": {},
     "output_type": "execute_result"
    }
   ],
   "source": [
    "from sklearn.linear_model import LogisticRegressionCV\n",
    "\n",
    "Cs = [1, 10,100,1000]\n",
    "\n",
    "# 大量样本（6W+）、高维度（93），L1正则 --> 可选用saga优化求解器(0.19版本新功能)\n",
    "# LogisticRegressionCV比GridSearchCV快\n",
    "lrcv_L1 = LogisticRegressionCV(Cs=Cs, cv = 5, scoring='neg_log_loss', penalty='l1', solver='liblinear', multi_class='ovr')\n",
    "lrcv_L1.fit(X_train, y_train)    "
   ]
  },
  {
   "cell_type": "code",
   "execution_count": 17,
   "metadata": {
    "scrolled": true
   },
   "outputs": [
    {
     "data": {
      "text/plain": [
       "{0: array([[-0.08352363, -0.08351868, -0.08351927, -0.08351938],\n",
       "        [-0.08855225, -0.0887092 , -0.08872639, -0.08872807],\n",
       "        [-0.08310828, -0.08322747, -0.0832411 , -0.08324232],\n",
       "        [-0.08218102, -0.08218956, -0.08219017, -0.08219019],\n",
       "        [-0.08079023, -0.08076725, -0.08076563, -0.08076543]]),\n",
       " 1: array([[-0.31682834, -0.31682305, -0.31682238, -0.31682307],\n",
       "        [-0.32032999, -0.32039121, -0.32039845, -0.320399  ],\n",
       "        [-0.31523791, -0.31526589, -0.3152698 , -0.3152706 ],\n",
       "        [-0.31668918, -0.31669189, -0.31669343, -0.31669302],\n",
       "        [-0.31923668, -0.31928702, -0.31929074, -0.31929306]]),\n",
       " 2: array([[-0.26140619, -0.26141867, -0.26142126, -0.2614216 ],\n",
       "        [-0.26185383, -0.26188046, -0.26188427, -0.26188379],\n",
       "        [-0.26767829, -0.26772383, -0.26772878, -0.26772902],\n",
       "        [-0.26380697, -0.26382892, -0.26383154, -0.26383126],\n",
       "        [-0.26326455, -0.26328748, -0.26329101, -0.26329102]]),\n",
       " 3: array([[-0.13062847, -0.13080884, -0.13082925, -0.13083117],\n",
       "        [-0.12742608, -0.12747529, -0.12748396, -0.12748487],\n",
       "        [-0.1252908 , -0.1252929 , -0.12529454, -0.12529479],\n",
       "        [-0.12718123, -0.12721709, -0.12722166, -0.12722208],\n",
       "        [-0.13061281, -0.13074835, -0.1307664 , -0.1307681 ]]),\n",
       " 4: array([[-0.01544968, -0.01577742, -0.0158628 , -0.01587144],\n",
       "        [-0.01202233, -0.01223002, -0.0123666 , -0.01238243],\n",
       "        [-0.01433835, -0.0146199 , -0.01466773, -0.01467171],\n",
       "        [-0.01854167, -0.01919534, -0.01948083, -0.01954995],\n",
       "        [-0.01407606, -0.01390057, -0.01391828, -0.01392133]]),\n",
       " 5: array([[-0.11884298, -0.11891471, -0.11892405, -0.11892488],\n",
       "        [-0.11643893, -0.11660658, -0.11662249, -0.11662516],\n",
       "        [-0.1060987 , -0.10607355, -0.10607124, -0.10607271],\n",
       "        [-0.10410827, -0.10414539, -0.10415003, -0.10415054],\n",
       "        [-0.10736406, -0.10739799, -0.10740146, -0.1074016 ]]),\n",
       " 6: array([[-0.10058117, -0.10063926, -0.10064607, -0.10064644],\n",
       "        [-0.11305464, -0.11313278, -0.11314181, -0.11314265],\n",
       "        [-0.10450555, -0.10452734, -0.10453009, -0.10453041],\n",
       "        [-0.10078721, -0.10081459, -0.1008181 , -0.10081845],\n",
       "        [-0.10068647, -0.10074322, -0.10075039, -0.10075102]]),\n",
       " 7: array([[-0.10177258, -0.10178703, -0.10178831, -0.10178819],\n",
       "        [-0.11022154, -0.11031477, -0.11032692, -0.11032445],\n",
       "        [-0.10008581, -0.1000783 , -0.10007888, -0.10007795],\n",
       "        [-0.10345971, -0.10347922, -0.10348153, -0.10348228],\n",
       "        [-0.10526878, -0.10530896, -0.10531385, -0.10531429]]),\n",
       " 8: array([[-0.09436442, -0.09453016, -0.09454892, -0.09455078],\n",
       "        [-0.08332482, -0.08332992, -0.08333134, -0.08333126],\n",
       "        [-0.09287015, -0.09289514, -0.0928986 , -0.09289907],\n",
       "        [-0.09000695, -0.09010225, -0.0901127 , -0.09011372],\n",
       "        [-0.0909538 , -0.09095003, -0.09095084, -0.09095116]])}"
      ]
     },
     "execution_count": 17,
     "metadata": {},
     "output_type": "execute_result"
    }
   ],
   "source": [
    "lrcv_L1.scores_"
   ]
  },
  {
   "cell_type": "code",
   "execution_count": 18,
   "metadata": {
    "scrolled": true
   },
   "outputs": [
    {
     "data": {
      "image/png": "[encoded data removed]",
      "text/plain": [
       "<matplotlib.figure.Figure at 0x1265a630>"
      ]
     },
     "metadata": {},
     "output_type": "display_data"
    }
   ],
   "source": [
    "# scores_：dict with classes as the keys, and the values as the grid of scores obtained during cross-validating each fold,\n",
    "# Each dict value has shape (n_folds, len(Cs))\n",
    "n_Cs = len(Cs)\n",
    "n_classes = 9\n",
    "scores =  np.zeros((n_classes,n_Cs))\n",
    "\n",
    "for j in range(n_classes):\n",
    "        scores[j][:] = np.mean(lrcv_L1.scores_[j],axis = 0)\n",
    "    \n",
    "mse_mean = -np.mean(scores, axis = 0)\n",
    "pyplot.plot(np.log10(Cs), mse_mean.reshape(n_Cs,1)) \n",
    "#plt.plot(np.log10(reg.Cs)*np.ones(3), [0.28, 0.29, 0.30])\n",
    "pyplot.xlabel('log(C)')\n",
    "pyplot.ylabel('neg-logloss')\n",
    "pyplot.show()\n",
    "\n",
    "#print ('C is:',lr_cv.C_)  #对多类分类问题，每个类别的分类器有一个C\n"
   ]
  },
  {
   "cell_type": "markdown",
   "metadata": {},
   "source": [
    "这个score似乎和GridSearchCV得到的Score不一样"
   ]
  },
  {
   "cell_type": "code",
   "execution_count": 19,
   "metadata": {},
   "outputs": [
    {
     "data": {
      "text/plain": [
       "array([[-0.08363108, -0.08368243, -0.08368851, -0.08368908],\n",
       "       [-0.31766442, -0.31769181, -0.31769496, -0.31769575],\n",
       "       [-0.26360197, -0.26362787, -0.26363137, -0.26363134],\n",
       "       [-0.12822788, -0.1283085 , -0.12831916, -0.1283202 ],\n",
       "       [-0.01488562, -0.01514465, -0.01525925, -0.01527937],\n",
       "       [-0.11057059, -0.11062764, -0.11063385, -0.11063498],\n",
       "       [-0.10392301, -0.10397144, -0.10397729, -0.1039778 ],\n",
       "       [-0.10416168, -0.10419365, -0.1041979 , -0.10419743],\n",
       "       [-0.09030403, -0.0903615 , -0.09036848, -0.0903692 ]])"
      ]
     },
     "execution_count": 19,
     "metadata": {},
     "output_type": "execute_result"
    }
   ],
   "source": [
    "scores"
   ]
  },
  {
   "cell_type": "code",
   "execution_count": 20,
   "metadata": {},
   "outputs": [
    {
     "data": {
      "text/plain": [
       "array([[-4.48007147e-02, -1.82114762e-01, -3.33908713e-01,\n",
       "        -1.32174791e-01,  6.85651690e-02,  5.58926162e-02,\n",
       "         8.72950876e-02,  6.00916322e-02, -1.02846946e+00,\n",
       "         2.67945391e-02, -1.40898023e+00,  1.41470203e-02,\n",
       "        -2.80662029e-01, -1.10580088e+00, -1.67695759e+00,\n",
       "        -7.18257912e-02,  3.14195317e-01,  1.31886514e-01,\n",
       "        -6.49747974e-01,  1.16808022e-01, -5.49224541e-03,\n",
       "         5.97469800e-02,  1.18196760e-01,  3.36818998e-01,\n",
       "        -7.92683088e-01, -1.30461073e-01, -1.27899239e-01,\n",
       "         7.43360214e-02, -2.85528227e-01,  2.22171419e-01,\n",
       "        -4.11279071e-01,  8.97221273e-02, -2.90526370e-01,\n",
       "        -1.04224824e+00, -5.83875709e-01, -1.71003911e-01,\n",
       "         2.03482656e-01, -1.02885579e-01, -1.44854225e-01,\n",
       "        -1.26936347e+00, -2.59961007e-01, -4.48982567e-01,\n",
       "        -1.75085985e+00,  1.44897399e-01, -3.11378991e-01,\n",
       "        -2.38800025e-01, -2.03725319e-01,  3.65406497e-02,\n",
       "         4.30942798e-02, -5.61936093e-01,  2.54903463e-02,\n",
       "         6.55884343e-03,  1.63083732e-01, -1.62111159e-02,\n",
       "         1.24769070e-01, -2.06486494e-01, -1.81554416e-01,\n",
       "        -2.20077039e+00, -2.52150205e-01, -5.19292996e-01,\n",
       "         1.77425213e-01,  9.68514472e-02, -4.83317411e-02,\n",
       "        -2.12130709e-01, -6.88185278e-03,  2.26486700e-01,\n",
       "         3.03909581e-01, -3.52352154e-01, -9.48699328e-01,\n",
       "         3.04777194e-01,  8.45260806e-02, -4.48330416e-01,\n",
       "        -2.29801903e-01, -6.47938748e-01, -5.76850688e-01,\n",
       "         2.60705572e-01,  2.36399989e-01, -5.27779128e-02,\n",
       "         1.06500710e-01,  6.54827863e-02,  1.66411911e-01,\n",
       "        -2.29210199e-01,  4.07392685e-03,  1.01301496e-01,\n",
       "         6.92862733e-02, -3.76286588e-01, -5.63772902e-02,\n",
       "        -1.40270158e-01, -1.01794804e-01, -1.00713602e+00,\n",
       "        -1.47018191e-01,  8.10157256e-02, -2.31348058e-01],\n",
       "       [-2.32899110e-03, -2.58839683e-01, -2.74320573e-01,\n",
       "         1.76024584e-02,  5.09037033e-02,  1.96629256e-02,\n",
       "        -1.33455288e-01, -2.13488468e-01,  9.72210631e-02,\n",
       "         2.75902559e-02, -9.73123874e-01,  1.12267565e-01,\n",
       "        -4.38380594e-01,  1.11928244e-01,  1.24082238e-01,\n",
       "         1.09531597e-01, -5.77387880e-01,  2.58148740e-02,\n",
       "        -7.27947028e-01, -1.80223397e-01,  3.86770852e-02,\n",
       "        -4.17343888e-02, -2.53012874e-01,  1.81048411e-01,\n",
       "         2.09128651e-01, -1.18379736e+00, -5.97603773e-01,\n",
       "        -9.34733199e-02, -7.77229532e-01, -6.99727535e-01,\n",
       "        -2.20455544e-02, -2.03036722e-01,  2.47102550e-01,\n",
       "        -6.28023580e-01, -2.11891830e-01, -8.42040196e-01,\n",
       "        -2.80474936e-02,  6.64579387e-02, -4.04616132e-01,\n",
       "         1.16178439e-01, -4.43059006e-01, -7.57357107e-01,\n",
       "        -1.12600247e-02, -1.76221866e-02, -1.54165147e-02,\n",
       "        -3.01094805e-01, -4.16802176e-01,  3.75841630e-01,\n",
       "         1.84960925e-02, -1.57289919e-01, -2.06525252e-01,\n",
       "         2.32370684e-02, -3.92760978e-01,  1.73108119e-01,\n",
       "        -8.11965971e-02, -2.29070195e-01, -5.38000550e-01,\n",
       "        -5.05698084e-01, -7.13824083e-01, -8.52533643e-01,\n",
       "        -2.21715790e-01, -4.98382445e-02,  1.16913374e-01,\n",
       "         1.53686102e-01,  3.82823830e-02,  8.63715889e-02,\n",
       "         1.29140096e-01, -8.49627618e-01, -4.37786332e-01,\n",
       "        -1.64712696e-02, -3.91316802e-01,  1.63157553e-01,\n",
       "        -2.59374637e-01,  6.73151280e-02, -1.06386465e+00,\n",
       "        -2.39546458e-01,  2.91624987e-01, -1.00056245e+00,\n",
       "        -2.60490739e-01, -2.53994376e-01, -8.90051007e-02,\n",
       "         2.40018943e-02, -7.52960115e-02, -8.37896398e-01,\n",
       "        -1.93502268e-02,  1.17404892e-02,  6.72538306e-02,\n",
       "        -7.36382676e-02,  3.23696187e-02, -1.07183357e+00,\n",
       "        -7.39417606e-01,  7.96714193e-02, -6.04265439e-02],\n",
       "       [-1.20258802e-01, -7.65077861e-02, -2.21295757e-01,\n",
       "        -1.06006867e-01, -9.29229337e-02, -1.35694193e-02,\n",
       "        -1.93404530e-01, -1.43688298e-01,  1.99604832e-01,\n",
       "        -5.43718550e-02, -7.40760937e-01, -2.93488538e-02,\n",
       "         2.78327823e-03,  1.42850503e-01,  7.85880720e-02,\n",
       "         1.56229937e-01, -4.65605045e-01, -6.89126860e-02,\n",
       "        -1.91724042e-01, -1.92115601e-01,  5.07706427e-02,\n",
       "        -7.94118930e-02,  1.12846456e-02,  1.76653423e-01,\n",
       "        -2.29540007e-02, -8.76996965e-01,  8.22742917e-02,\n",
       "        -8.53154466e-02,  8.75806945e-02,  2.21629408e-01,\n",
       "         5.55435699e-02,  2.51811191e-01, -6.48253975e-02,\n",
       "        -4.23990183e-01, -2.07037654e-01, -1.20196563e-01,\n",
       "        -2.16842269e-02,  9.41633339e-02, -2.15848327e-01,\n",
       "         2.20008617e-01,  1.55008755e-02, -4.50625427e-01,\n",
       "         3.32275642e-01, -4.09134720e-03, -2.68242595e-01,\n",
       "         1.70580889e-02, -6.01196669e-01, -7.55078152e-02,\n",
       "         2.47099848e-02,  9.77958303e-03, -1.24341265e-01,\n",
       "         1.05397248e-02, -1.08233234e-01, -2.39739297e-02,\n",
       "        -1.21123126e-02,  5.64847105e-02, -4.47571814e-01,\n",
       "        -3.09288940e-01, -4.11861441e-01, -2.69228075e+00,\n",
       "        -2.20595251e-01,  5.36612880e-02,  2.29579117e-02,\n",
       "         2.09139732e-01, -4.77686829e-02, -1.49981675e-02,\n",
       "        -4.27392705e-01, -1.80376456e-01, -1.08170341e+00,\n",
       "         6.18016212e-02,  1.36660165e-01, -2.89390927e-02,\n",
       "        -1.00913905e+00, -5.29145006e-01, -6.93541879e-01,\n",
       "        -4.45917691e-01, -4.46040450e-01, -1.07485495e-01,\n",
       "        -6.12285903e-02,  1.09245751e-01, -4.05493978e-02,\n",
       "        -3.36037185e-01,  2.99099376e-01, -7.41844685e-01,\n",
       "         1.25844155e-01,  1.78401827e-01, -1.12873149e-01,\n",
       "         9.70757661e-02,  1.94188436e-01, -7.12503177e-01,\n",
       "        -4.62852018e-01, -7.00818579e-01, -2.93385163e-01],\n",
       "       [ 2.46462665e-01, -3.22923498e-01, -6.37049322e-01,\n",
       "        -6.62542889e-01,  5.62310187e-02,  3.96444049e-03,\n",
       "        -1.61146722e-01, -2.46296966e-02, -6.19681110e-01,\n",
       "         6.15669232e-02, -1.24191393e+00, -1.16564959e-01,\n",
       "         7.45671654e-02,  2.83265289e-02,  3.71257046e-01,\n",
       "        -2.43897309e-02, -4.90852462e-01, -3.15998642e-01,\n",
       "        -1.02520914e-02,  8.78478984e-02, -7.92783511e-02,\n",
       "         6.31177727e-02,  4.69540706e-02, -8.20522204e-01,\n",
       "         3.39812803e-01,  6.93726866e-01,  4.05520822e-02,\n",
       "        -2.71917776e-01, -2.35556496e-01, -4.09202749e-01,\n",
       "        -1.04562803e-01, -2.21046286e-01, -2.50204668e-02,\n",
       "        -4.65562252e-01, -8.60222745e-01, -6.35833724e-03,\n",
       "        -1.26715888e-02, -6.33506848e-02, -6.30931528e-01,\n",
       "         5.57046907e-02, -2.13033252e-02,  1.40245035e-01,\n",
       "         6.75061835e-02,  1.13416608e-01, -7.48447435e-02,\n",
       "         0.00000000e+00, -9.64130364e-01, -4.40779190e-01,\n",
       "        -3.41878888e-01, -7.14874305e-02, -3.18355603e-01,\n",
       "         2.42262705e-01, -3.02284459e-02, -1.76733069e-01,\n",
       "         2.62467516e-02,  4.70998856e-02, -6.17850058e-01,\n",
       "        -2.05677393e+00, -6.83364451e-01, -1.36747550e-01,\n",
       "        -5.21314736e-01, -7.80210596e-01,  6.75809131e-02,\n",
       "         2.68262587e-03, -1.24226235e-01, -1.53748655e-02,\n",
       "        -8.73351118e-01, -6.52262654e-02, -4.43520070e-02,\n",
       "         1.45063668e-02, -2.21051073e-01, -1.45454447e-02,\n",
       "        -1.13271816e-01,  3.61936882e-02, -2.64792521e-01,\n",
       "        -9.86930945e-01, -4.34204194e-01, -6.37376236e-02,\n",
       "         8.54464901e-02,  8.41297663e-03, -1.46220004e-01,\n",
       "        -2.92867523e-01, -1.27206221e-01, -7.66645978e-01,\n",
       "         1.40823868e-01,  1.88053562e-01,  3.30538225e-01,\n",
       "         1.20558651e-01, -1.63757018e-01, -8.53108127e-01,\n",
       "         0.00000000e+00,  1.50233758e-01, -4.89955114e-01],\n",
       "       [-3.30135190e-01,  0.00000000e+00,  8.97591197e-01,\n",
       "        -1.85704879e-01, -5.92125582e-02, -6.90018745e-02,\n",
       "        -6.41675023e-01,  1.88826336e-01, -1.69225699e-02,\n",
       "        -4.94437456e-01, -3.41084251e+00,  2.09940998e-01,\n",
       "         9.21782427e-02, -1.30293287e+00, -8.36171086e-01,\n",
       "         2.39661964e-03, -1.52339852e+00,  1.87699934e-01,\n",
       "        -3.02022426e-01, -2.91173519e-02, -4.82975812e-01,\n",
       "         2.80847499e-01,  0.00000000e+00, -4.27155006e-01,\n",
       "        -1.19160319e+00, -1.66468009e+00, -4.61105515e-01,\n",
       "        -1.56383763e-01, -8.32886388e-01, -8.67040202e-01,\n",
       "         1.91126942e-01,  3.03188876e-01,  2.53298201e-01,\n",
       "         3.13814372e+00, -2.35318362e-01, -1.10609735e+00,\n",
       "         2.27002026e-02, -6.60947162e-02, -8.60526089e+00,\n",
       "        -4.68548727e-02, -1.25679132e-01, -4.61024233e-01,\n",
       "        -6.00526450e+00,  0.00000000e+00,  0.00000000e+00,\n",
       "        -4.51999447e-01, -1.39200757e+00, -9.86880002e-02,\n",
       "         0.00000000e+00, -6.61935194e-01, -1.62550616e-01,\n",
       "        -1.12221362e+00, -4.16028855e-02, -6.06346573e-01,\n",
       "        -2.41839359e-01, -4.32772279e-01,  0.00000000e+00,\n",
       "        -8.35964795e-01, -3.47434950e+00, -2.57806127e+00,\n",
       "         0.00000000e+00, -4.42157024e-01, -9.05581865e-02,\n",
       "        -3.43732612e-01, -1.03100697e-01,  9.37267349e-02,\n",
       "        -4.26650363e-01, -5.67750320e-01, -7.43047807e-01,\n",
       "        -1.53367070e-01,  3.68932905e-01, -1.24367737e+00,\n",
       "        -5.04817093e+00,  0.00000000e+00, -3.09676865e+00,\n",
       "        -1.44473603e+00, -5.50883007e-01, -5.93126176e-01,\n",
       "         0.00000000e+00,  0.00000000e+00, -3.02551021e-01,\n",
       "        -2.73372410e-01, -4.05182052e+00, -1.39170621e+00,\n",
       "        -2.77742216e-01, -2.22990706e+00,  1.74089880e-01,\n",
       "        -7.57128342e-01, -3.95137958e-01, -8.02079827e-01,\n",
       "        -6.95756429e-01,  7.11154359e-02,  0.00000000e+00],\n",
       "       [ 9.61240607e-02,  8.17971235e-03,  2.59882830e-01,\n",
       "        -4.83317889e-03, -1.21890927e-01,  1.97415931e-02,\n",
       "        -1.76489371e-01, -1.52917658e-01, -5.80854424e-01,\n",
       "        -6.29967026e-02,  2.26928142e+00, -4.12298051e-02,\n",
       "         2.26839908e-03, -1.01889170e+00, -1.05397689e+00,\n",
       "         1.18153623e-03,  2.03406638e-02,  1.64929129e-01,\n",
       "        -6.12542688e-01, -2.80687099e-02,  7.07157665e-04,\n",
       "         6.85404393e-02,  5.63235243e-02, -1.85798255e-03,\n",
       "        -4.00592020e-01,  5.66339010e-01,  1.88135542e-01,\n",
       "        -2.46236364e-03,  1.32847270e-01, -2.88458922e-01,\n",
       "         8.00599238e-02, -1.83770904e-01, -1.44815771e-01,\n",
       "        -9.44683680e-01, -8.09312131e-01, -1.96735321e-01,\n",
       "        -8.97155121e-02, -1.58267158e-01,  4.00203294e-02,\n",
       "        -9.77180957e-01, -9.73682844e-02,  9.95138216e-01,\n",
       "        -1.97526063e-01,  1.41980140e-01,  7.70245277e-02,\n",
       "         2.30878858e-01,  7.10624651e-02, -2.38652152e-01,\n",
       "         5.05763249e-03,  3.56060776e-02,  1.35449842e-02,\n",
       "        -1.60938071e-01, -7.08295646e-02,  1.43818365e-01,\n",
       "         5.18450738e-02, -2.32108241e-01,  6.02327367e-01,\n",
       "        -4.83565559e-01,  6.15861368e-02,  1.22078192e+00,\n",
       "         3.32548977e-01, -5.15724584e-01, -1.22921104e-02,\n",
       "         2.95321188e-01, -4.20617706e-02,  2.45249638e-02,\n",
       "        -5.89658450e-03, -2.49087872e-01, -4.20522696e-01,\n",
       "        -5.21749295e-02, -1.49195453e-01, -6.21737954e-01,\n",
       "        -3.21036108e-01,  2.66789847e-01, -2.51655250e-01,\n",
       "        -2.46416104e-01, -1.29563896e-01, -9.10194242e-01,\n",
       "         1.24729625e-01, -6.98415088e-03,  2.89915694e-03,\n",
       "         8.84286185e-02, -4.15704204e-02, -2.54496100e-01,\n",
       "        -8.47445227e-02, -1.05775117e-01,  1.65171455e-01,\n",
       "        -4.06741768e-01, -2.21089243e-01, -6.93156935e-01,\n",
       "        -1.52376459e-02,  7.57926924e-02,  4.49174841e-01],\n",
       "       [-2.78581199e-02,  1.38454764e-01, -1.21639570e-01,\n",
       "        -1.06658618e-01, -1.08353937e-01,  8.04503767e-03,\n",
       "        -1.53548279e-02, -3.02725786e-01, -1.07137451e+00,\n",
       "         5.46610549e-02, -5.64122803e-01,  7.69642957e-02,\n",
       "        -3.82566321e-01, -4.75361563e-01, -1.32771747e+00,\n",
       "         2.62450460e-01,  1.46003104e-01, -4.57978785e-02,\n",
       "        -4.38166313e-01, -2.84406134e-02,  1.41291879e-02,\n",
       "        -6.12457718e-02,  2.55851520e-01,  7.70548893e-02,\n",
       "        -4.10399490e-01, -3.37864500e-01, -9.23276343e-01,\n",
       "         4.22015301e-03, -5.70977037e-02, -2.23629354e-01,\n",
       "        -6.64884067e-02,  6.61818675e-01, -8.00716045e-02,\n",
       "        -8.20055431e-01, -2.10308815e-01, -5.45596465e-01,\n",
       "         7.67868790e-02,  2.12955455e-01,  6.60989432e-01,\n",
       "        -8.60534694e-01, -1.71459980e-01, -2.46901787e-01,\n",
       "         2.02972391e-02,  5.44287805e-02,  1.97005392e-01,\n",
       "        -2.66984366e-01,  4.52980206e-02,  9.58284321e-02,\n",
       "         1.10511979e-01,  5.32214656e-01,  3.44512880e-02,\n",
       "         9.39581655e-02, -2.09585463e-01, -1.72750903e-01,\n",
       "         3.73458010e-02,  2.72146164e-01, -2.56700788e-03,\n",
       "        -4.43353044e-01, -1.04013041e-01, -3.65774012e-01,\n",
       "        -3.98435720e-01, -5.52964110e-01,  2.72315888e-03,\n",
       "         1.18648329e-01, -1.87687899e-02,  1.37061332e-01,\n",
       "        -2.16438689e-01, -3.11093231e-01, -5.28311984e-01,\n",
       "         1.27658549e-01,  2.58030334e-02, -2.87019903e-01,\n",
       "        -5.51661226e-01, -1.75734740e-01, -7.12712754e-01,\n",
       "        -1.83470374e-01, -3.00364502e-02, -1.61422192e-01,\n",
       "         6.64704147e-02, -2.73713773e-03,  9.90974956e-02,\n",
       "         9.90941521e-03,  1.19379970e-01, -9.00954791e-01,\n",
       "        -9.16301010e-02,  2.18407491e-01,  2.18263043e-03,\n",
       "        -8.24882162e-02, -2.63103662e-02, -4.77425897e-01,\n",
       "        -2.65347659e-02, -2.23397416e-01, -1.30641447e-01],\n",
       "       [ 9.05950148e-02, -2.26572039e-01, -3.49076178e-01,\n",
       "         9.43381118e-02, -1.31220009e-02,  5.76069990e-03,\n",
       "         1.14630037e-01, -1.40545433e-01, -1.80671821e-01,\n",
       "         1.06671586e-01, -1.59549087e+00,  3.80041817e-02,\n",
       "         1.64279908e-01, -1.03019352e+00, -1.66823292e+00,\n",
       "        -8.53285299e-02, -2.17046618e-01,  0.00000000e+00,\n",
       "         8.32604915e-01,  2.89492144e-01,  9.02426147e-03,\n",
       "         4.76357986e-02, -6.20694818e-02,  4.76146792e-02,\n",
       "        -1.98218421e-01, -4.27240488e-01, -9.35989686e-02,\n",
       "         2.03601023e-01, -7.29577124e-02, -1.84415791e-01,\n",
       "         1.65043557e-01, -2.55960123e-01,  3.86047565e-02,\n",
       "        -9.86786208e-01,  8.87740350e-01, -4.98291637e-01,\n",
       "         2.78295946e-01,  3.49008487e-01, -8.06059568e-01,\n",
       "        -9.30847846e-01,  4.54402780e-02, -4.94404128e-01,\n",
       "        -9.93898388e-01,  7.16388325e-03, -5.85204994e-01,\n",
       "         1.19667386e-01,  2.96717517e-01, -4.30119171e-01,\n",
       "        -8.90850264e-02, -2.37035672e-01,  6.06470456e-02,\n",
       "         5.61558813e-02, -4.06313660e-01,  1.21143280e-01,\n",
       "        -5.18487790e-02, -1.96708450e-01, -2.04257080e-01,\n",
       "         7.98473288e-01, -5.40438032e-01, -9.56262102e-01,\n",
       "        -1.18375718e-01, -6.90202743e-02, -4.40748481e-02,\n",
       "         4.78770968e-02,  8.86321245e-02,  5.84102125e-02,\n",
       "         9.16782231e-02,  7.44570863e-01,  1.44357106e+00,\n",
       "         3.81960544e-02,  3.22591189e-01, -5.25824142e-01,\n",
       "         6.85375071e-01,  3.13577999e-02,  1.10395976e+00,\n",
       "         9.07479907e-02, -3.48502300e-01,  4.44235843e-01,\n",
       "        -2.52395435e-01,  1.08116680e-01,  6.84470664e-02,\n",
       "        -1.23335366e-01,  9.92041536e-02,  1.68608174e-01,\n",
       "        -2.91943703e-01, -1.11607200e+00, -2.67658048e-01,\n",
       "        -3.88668893e-01,  1.45802506e-01,  1.53053261e+00,\n",
       "        -7.59520849e-01, -7.82084385e-02, -7.27026738e-02],\n",
       "       [ 1.35827024e-01, -7.72625197e-02, -1.26363600e-01,\n",
       "        -1.79279323e-01, -5.56995421e-02, -1.49620996e-01,\n",
       "        -1.15448818e-01,  1.63716365e-01, -8.56763334e-01,\n",
       "        -1.51811986e-01, -1.38837913e+00, -1.01057930e-01,\n",
       "         1.56021290e-01, -9.25157438e-01, -1.31532132e+00,\n",
       "         7.10184936e-02,  9.10567549e-02,  8.29798489e-02,\n",
       "        -4.85401014e-01, -1.81110199e-01,  1.33479252e-01,\n",
       "         3.29753112e-01, -2.29207920e-01, -2.26926968e-01,\n",
       "        -1.26081597e-01, -1.17446455e-01, -2.64591179e-02,\n",
       "        -3.53655308e-02, -2.09168953e-02,  6.06878099e-01,\n",
       "         1.97727299e-02,  3.14058245e-04,  1.73586840e-03,\n",
       "        -1.08147489e+00, -3.14473859e-01,  6.81195989e-01,\n",
       "        -2.06951904e-01, -3.11842552e-01, -5.87397271e-01,\n",
       "        -1.31872400e+00,  3.92815032e-01, -4.52300174e-01,\n",
       "        -1.08883295e+00,  0.00000000e+00, -1.48320479e+00,\n",
       "        -6.13046597e-01, -5.78663324e-01,  4.40929229e-02,\n",
       "        -8.61870632e-02, -2.08559733e-01,  3.45233884e-02,\n",
       "         5.65611220e-02,  2.71478654e-01, -1.13748233e-01,\n",
       "        -1.03657765e-01, -3.90878737e-02, -1.89917076e-01,\n",
       "        -3.98213364e-01,  7.43342533e-01, -8.66652128e-01,\n",
       "        -1.74936898e-01,  8.46599653e-01, -4.05110957e-02,\n",
       "        -7.02679134e-01, -8.49743487e-02,  1.22011668e-01,\n",
       "         2.28310622e-01, -1.95721872e-01, -7.90686657e-01,\n",
       "        -2.43181452e-01, -1.54344953e-01, -4.92263392e-01,\n",
       "        -7.82500814e-01,  1.00411844e-01, -2.80525416e-01,\n",
       "        -1.55282877e-01,  2.08763216e-01, -4.31032259e-01,\n",
       "         4.89817792e-02, -7.52586293e-02, -1.03555436e-01,\n",
       "         1.81615186e-01,  1.50253247e-01, -1.28443373e+00,\n",
       "        -1.89726386e-01, -2.79721559e-01,  1.18723954e-01,\n",
       "        -8.65065200e-01,  1.31037509e-01, -6.00462955e-01,\n",
       "         4.49189552e-01,  2.08293406e-01, -2.84055512e-01]])"
      ]
     },
     "execution_count": 20,
     "metadata": {},
     "output_type": "execute_result"
    }
   ],
   "source": [
    "lrcv_L1.coef_"
   ]
  },
  {
   "cell_type": "markdown",
   "metadata": {},
   "source": [
    "惩罚不够，没有稀疏系数"
   ]
  },
  {
   "cell_type": "markdown",
   "metadata": {},
   "source": [
    "### L2正则"
   ]
  },
  {
   "cell_type": "code",
   "execution_count": 21,
   "metadata": {
    "scrolled": false
   },
   "outputs": [
    {
     "data": {
      "text/plain": [
       "LogisticRegressionCV(Cs=[1, 10, 100, 1000], class_weight=None, cv=5,\n",
       "           dual=False, fit_intercept=True, intercept_scaling=1.0,\n",
       "           max_iter=100, multi_class='ovr', n_jobs=1, penalty='l2',\n",
       "           random_state=None, refit=True, scoring='neg_log_loss',\n",
       "           solver='liblinear', tol=0.0001, verbose=0)"
      ]
     },
     "execution_count": 21,
     "metadata": {},
     "output_type": "execute_result"
    }
   ],
   "source": [
    "from sklearn.linear_model import LogisticRegressionCV\n",
    "\n",
    "Cs = [1, 10,100,1000]\n",
    "\n",
    "# 大量样本（6W+）、高维度（93），L2正则 --> 缺省用lbfgs，为了和GridSeachCV比较，也用liblinear\n",
    "\n",
    "lr_cv_L2 = LogisticRegressionCV(Cs=Cs, cv = 5, scoring='neg_log_loss', penalty='l2', solver='liblinear', multi_class='ovr')\n",
    "lr_cv_L2.fit(X_train, y_train)    "
   ]
  },
  {
   "cell_type": "code",
   "execution_count": 22,
   "metadata": {},
   "outputs": [
    {
     "ename": "NameError",
     "evalue": "name 'lr_cv' is not defined",
     "output_type": "error",
     "traceback": [
      "\u001b[1;31m---------------------------------------------------------------------------\u001b[0m",
      "\u001b[1;31mNameError\u001b[0m                                 Traceback (most recent call last)",
      "\u001b[1;32m<ipython-input-22-aaa2af6807be>\u001b[0m in \u001b[0;36m<module>\u001b[1;34m()\u001b[0m\n\u001b[1;32m----> 1\u001b[1;33m \u001b[0mlr_cv\u001b[0m\u001b[1;33m.\u001b[0m\u001b[0mscores_\u001b[0m\u001b[1;33m\u001b[0m\u001b[0m\n\u001b[0m",
      "\u001b[1;31mNameError\u001b[0m: name 'lr_cv' is not defined"
     ]
    }
   ],
   "source": [
    "lr_cv.scores_"
   ]
  },
  {
   "cell_type": "code",
   "execution_count": null,
   "metadata": {
    "collapsed": true,
    "scrolled": true
   },
   "outputs": [],
   "source": [
    "# dict with classes as the keys, and the values as the grid of scores obtained during cross-validating each fold,\n",
    "# Each dict value has shape (n_folds, len(Cs))\n",
    "n_Cs = len(Cs)\n",
    "n_classes = 9\n",
    "scores =  np.zeros((n_classes,n_Cs))\n",
    "\n",
    "for j in range(n_classes):\n",
    "        scores[j][:] = np.mean(lr_cv.scores_[j],axis = 0)\n",
    "    \n",
    "mse_mean = -np.mean(scores, axis = 0)\n",
    "pyplot.plot(np.log10(Cs), mse_mean.reshape(n_Cs,1)) \n",
    "#plt.plot(np.log10(reg.Cs)*np.ones(3), [0.28, 0.29, 0.30])\n",
    "pyplot.xlabel('log(C)')\n",
    "pyplot.ylabel('neg-logloss')\n",
    "pyplot.show()\n",
    "\n",
    "#print ('C is:',lr_cv.C_)  #对多类分类问题，每个类别的分类器有一个C\n"
   ]
  },
  {
   "cell_type": "code",
   "execution_count": null,
   "metadata": {
    "collapsed": true,
    "scrolled": true
   },
   "outputs": [],
   "source": [
    "from sklearn.linear_model import LogisticRegressionCV\n",
    "\n",
    "Cs = [1, 10,100,1000]\n",
    "\n",
    "# 大量样本（6W+）、高维度（93），L2正则 --> 缺省用lbfgs\n",
    "# LogisticRegressionCV比GridSearchCV快\n",
    "lrcv_L2 = LogisticRegressionCV(Cs=Cs, cv = 5, scoring='neg_log_loss', penalty='l2', multi_class='ovr')\n",
    "lrcv_L2.fit(X_train, y_train)    "
   ]
  },
  {
   "cell_type": "code",
   "execution_count": null,
   "metadata": {
    "collapsed": true
   },
   "outputs": [],
   "source": [
    "lrcv_L2.scores_"
   ]
  },
  {
   "cell_type": "code",
   "execution_count": null,
   "metadata": {
    "collapsed": true,
    "scrolled": true
   },
   "outputs": [],
   "source": [
    "# dict with classes as the keys, and the values as the grid of scores obtained during cross-validating each fold,\n",
    "# Each dict value has shape (n_folds, len(Cs))\n",
    "n_Cs = len(Cs)\n",
    "n_classes = 9\n",
    "scores =  np.zeros((n_classes,n_Cs))\n",
    "\n",
    "for j in range(n_classes):\n",
    "        scores[j][:] = np.mean(lrcv_L2.scores_[j],axis = 0)\n",
    "    \n",
    "mse_mean = -np.mean(scores, axis = 0)\n",
    "pyplot.plot(np.log10(Cs), mse_mean.reshape(n_Cs,1)) \n",
    "#plt.plot(np.log10(reg.Cs)*np.ones(3), [0.28, 0.29, 0.30])\n",
    "pyplot.xlabel('log(C)')\n",
    "pyplot.ylabel('neg-logloss')\n",
    "pyplot.show()\n",
    "\n",
    "#print ('C is:',lr_cv.C_)  #对多类分类问题，每个类别的分类器有一个C\n"
   ]
  },
  {
   "cell_type": "code",
   "execution_count": null,
   "metadata": {
    "collapsed": true
   },
   "outputs": [],
   "source": []
  }
 ],
 "metadata": {
  "kernelspec": {
   "display_name": "Python 3",
   "language": "python",
   "name": "python3"
  },
  "language_info": {
   "codemirror_mode": {
    "name": "ipython",
    "version": 3
   },
   "file_extension": ".py",
   "mimetype": "text/x-python",
   "name": "python",
   "nbconvert_exporter": "python",
   "pygments_lexer": "ipython3",
   "version": "3.6.3"
  }
 },
 "nbformat": 4,
 "nbformat_minor": 2
}
